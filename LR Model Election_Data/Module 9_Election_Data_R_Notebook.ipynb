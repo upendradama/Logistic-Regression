{
 "cells": [
  {
   "cell_type": "markdown",
   "metadata": {},
   "source": [
    "# Logistic Regression\n",
    "\n",
    "### Problem Statement :- \n",
    "        - Whether a candidate can win an election or not"
   ]
  },
  {
   "cell_type": "markdown",
   "metadata": {},
   "source": [
    "### Data Cleaning & Processing"
   ]
  },
  {
   "cell_type": "markdown",
   "metadata": {},
   "source": [
    "Loading the dataset"
   ]
  },
  {
   "cell_type": "code",
   "execution_count": 21,
   "metadata": {},
   "outputs": [],
   "source": [
    "election <- read.csv(\"~/desktop/Digi 360/Module 9/election_data.csv\")"
   ]
  },
  {
   "cell_type": "code",
   "execution_count": 22,
   "metadata": {},
   "outputs": [
    {
     "data": {
      "text/html": [
       "<table>\n",
       "<thead><tr><th scope=col>Election.id</th><th scope=col>Result</th><th scope=col>Year</th><th scope=col>Amount.Spent</th><th scope=col>Popularity.Rank</th></tr></thead>\n",
       "<tbody>\n",
       "\t<tr><td> NA </td><td>NA  </td><td>NA  </td><td>  NA</td><td>NA  </td></tr>\n",
       "\t<tr><td>122 </td><td> 0  </td><td>32  </td><td>3.81</td><td> 3  </td></tr>\n",
       "\t<tr><td>315 </td><td> 1  </td><td>48  </td><td>6.32</td><td> 2  </td></tr>\n",
       "\t<tr><td>201 </td><td> 1  </td><td>51  </td><td>3.67</td><td> 1  </td></tr>\n",
       "\t<tr><td>965 </td><td> 0  </td><td>40  </td><td>2.93</td><td> 4  </td></tr>\n",
       "\t<tr><td>410 </td><td> 1  </td><td>52  </td><td>3.60</td><td> 1  </td></tr>\n",
       "</tbody>\n",
       "</table>\n"
      ],
      "text/latex": [
       "\\begin{tabular}{r|lllll}\n",
       " Election.id & Result & Year & Amount.Spent & Popularity.Rank\\\\\n",
       "\\hline\n",
       "\t  NA  & NA   & NA   &   NA & NA  \\\\\n",
       "\t 122  &  0   & 32   & 3.81 &  3  \\\\\n",
       "\t 315  &  1   & 48   & 6.32 &  2  \\\\\n",
       "\t 201  &  1   & 51   & 3.67 &  1  \\\\\n",
       "\t 965  &  0   & 40   & 2.93 &  4  \\\\\n",
       "\t 410  &  1   & 52   & 3.60 &  1  \\\\\n",
       "\\end{tabular}\n"
      ],
      "text/markdown": [
       "\n",
       "| Election.id | Result | Year | Amount.Spent | Popularity.Rank |\n",
       "|---|---|---|---|---|\n",
       "|  NA  | NA   | NA   |   NA | NA   |\n",
       "| 122  |  0   | 32   | 3.81 |  3   |\n",
       "| 315  |  1   | 48   | 6.32 |  2   |\n",
       "| 201  |  1   | 51   | 3.67 |  1   |\n",
       "| 965  |  0   | 40   | 2.93 |  4   |\n",
       "| 410  |  1   | 52   | 3.60 |  1   |\n",
       "\n"
      ],
      "text/plain": [
       "  Election.id Result Year Amount.Spent Popularity.Rank\n",
       "1  NA         NA     NA     NA         NA             \n",
       "2 122          0     32   3.81          3             \n",
       "3 315          1     48   6.32          2             \n",
       "4 201          1     51   3.67          1             \n",
       "5 965          0     40   2.93          4             \n",
       "6 410          1     52   3.60          1             "
      ]
     },
     "metadata": {},
     "output_type": "display_data"
    }
   ],
   "source": [
    "head(election)"
   ]
  },
  {
   "cell_type": "code",
   "execution_count": 24,
   "metadata": {},
   "outputs": [
    {
     "data": {
      "text/html": [
       "5"
      ],
      "text/latex": [
       "5"
      ],
      "text/markdown": [
       "5"
      ],
      "text/plain": [
       "[1] 5"
      ]
     },
     "metadata": {},
     "output_type": "display_data"
    }
   ],
   "source": [
    "## Finding the null values\n",
    "sum(is.na(election))"
   ]
  },
  {
   "cell_type": "code",
   "execution_count": 25,
   "metadata": {},
   "outputs": [],
   "source": [
    "## Let's remove the first row since it has NA values\n",
    "\n",
    "election <- election[-1,]"
   ]
  },
  {
   "cell_type": "code",
   "execution_count": 26,
   "metadata": {},
   "outputs": [
    {
     "data": {
      "text/html": [
       "<table>\n",
       "<thead><tr><th></th><th scope=col>Election.id</th><th scope=col>Result</th><th scope=col>Year</th><th scope=col>Amount.Spent</th><th scope=col>Popularity.Rank</th></tr></thead>\n",
       "<tbody>\n",
       "\t<tr><th scope=row>2</th><td>122 </td><td>0   </td><td>32  </td><td>3.81</td><td>3   </td></tr>\n",
       "\t<tr><th scope=row>3</th><td>315 </td><td>1   </td><td>48  </td><td>6.32</td><td>2   </td></tr>\n",
       "\t<tr><th scope=row>4</th><td>201 </td><td>1   </td><td>51  </td><td>3.67</td><td>1   </td></tr>\n",
       "\t<tr><th scope=row>5</th><td>965 </td><td>0   </td><td>40  </td><td>2.93</td><td>4   </td></tr>\n",
       "\t<tr><th scope=row>6</th><td>410 </td><td>1   </td><td>52  </td><td>3.60</td><td>1   </td></tr>\n",
       "\t<tr><th scope=row>7</th><td>150 </td><td>0   </td><td>35  </td><td>4.20</td><td>4   </td></tr>\n",
       "</tbody>\n",
       "</table>\n"
      ],
      "text/latex": [
       "\\begin{tabular}{r|lllll}\n",
       "  & Election.id & Result & Year & Amount.Spent & Popularity.Rank\\\\\n",
       "\\hline\n",
       "\t2 & 122  & 0    & 32   & 3.81 & 3   \\\\\n",
       "\t3 & 315  & 1    & 48   & 6.32 & 2   \\\\\n",
       "\t4 & 201  & 1    & 51   & 3.67 & 1   \\\\\n",
       "\t5 & 965  & 0    & 40   & 2.93 & 4   \\\\\n",
       "\t6 & 410  & 1    & 52   & 3.60 & 1   \\\\\n",
       "\t7 & 150  & 0    & 35   & 4.20 & 4   \\\\\n",
       "\\end{tabular}\n"
      ],
      "text/markdown": [
       "\n",
       "| <!--/--> | Election.id | Result | Year | Amount.Spent | Popularity.Rank |\n",
       "|---|---|---|---|---|---|\n",
       "| 2 | 122  | 0    | 32   | 3.81 | 3    |\n",
       "| 3 | 315  | 1    | 48   | 6.32 | 2    |\n",
       "| 4 | 201  | 1    | 51   | 3.67 | 1    |\n",
       "| 5 | 965  | 0    | 40   | 2.93 | 4    |\n",
       "| 6 | 410  | 1    | 52   | 3.60 | 1    |\n",
       "| 7 | 150  | 0    | 35   | 4.20 | 4    |\n",
       "\n"
      ],
      "text/plain": [
       "  Election.id Result Year Amount.Spent Popularity.Rank\n",
       "2 122         0      32   3.81         3              \n",
       "3 315         1      48   6.32         2              \n",
       "4 201         1      51   3.67         1              \n",
       "5 965         0      40   2.93         4              \n",
       "6 410         1      52   3.60         1              \n",
       "7 150         0      35   4.20         4              "
      ]
     },
     "metadata": {},
     "output_type": "display_data"
    }
   ],
   "source": [
    "head(election)"
   ]
  },
  {
   "cell_type": "code",
   "execution_count": 27,
   "metadata": {},
   "outputs": [
    {
     "data": {
      "text/html": [
       "<table>\n",
       "<thead><tr><th></th><th scope=col>Result</th><th scope=col>Year</th><th scope=col>Amount.Spent</th><th scope=col>Popularity.Rank</th></tr></thead>\n",
       "<tbody>\n",
       "\t<tr><th scope=row>2</th><td>0   </td><td>32  </td><td>3.81</td><td>3   </td></tr>\n",
       "\t<tr><th scope=row>3</th><td>1   </td><td>48  </td><td>6.32</td><td>2   </td></tr>\n",
       "\t<tr><th scope=row>4</th><td>1   </td><td>51  </td><td>3.67</td><td>1   </td></tr>\n",
       "\t<tr><th scope=row>5</th><td>0   </td><td>40  </td><td>2.93</td><td>4   </td></tr>\n",
       "\t<tr><th scope=row>6</th><td>1   </td><td>52  </td><td>3.60</td><td>1   </td></tr>\n",
       "\t<tr><th scope=row>7</th><td>0   </td><td>35  </td><td>4.20</td><td>4   </td></tr>\n",
       "</tbody>\n",
       "</table>\n"
      ],
      "text/latex": [
       "\\begin{tabular}{r|llll}\n",
       "  & Result & Year & Amount.Spent & Popularity.Rank\\\\\n",
       "\\hline\n",
       "\t2 & 0    & 32   & 3.81 & 3   \\\\\n",
       "\t3 & 1    & 48   & 6.32 & 2   \\\\\n",
       "\t4 & 1    & 51   & 3.67 & 1   \\\\\n",
       "\t5 & 0    & 40   & 2.93 & 4   \\\\\n",
       "\t6 & 1    & 52   & 3.60 & 1   \\\\\n",
       "\t7 & 0    & 35   & 4.20 & 4   \\\\\n",
       "\\end{tabular}\n"
      ],
      "text/markdown": [
       "\n",
       "| <!--/--> | Result | Year | Amount.Spent | Popularity.Rank |\n",
       "|---|---|---|---|---|\n",
       "| 2 | 0    | 32   | 3.81 | 3    |\n",
       "| 3 | 1    | 48   | 6.32 | 2    |\n",
       "| 4 | 1    | 51   | 3.67 | 1    |\n",
       "| 5 | 0    | 40   | 2.93 | 4    |\n",
       "| 6 | 1    | 52   | 3.60 | 1    |\n",
       "| 7 | 0    | 35   | 4.20 | 4    |\n",
       "\n"
      ],
      "text/plain": [
       "  Result Year Amount.Spent Popularity.Rank\n",
       "2 0      32   3.81         3              \n",
       "3 1      48   6.32         2              \n",
       "4 1      51   3.67         1              \n",
       "5 0      40   2.93         4              \n",
       "6 1      52   3.60         1              \n",
       "7 0      35   4.20         4              "
      ]
     },
     "metadata": {},
     "output_type": "display_data"
    }
   ],
   "source": [
    "## Let's remove election ID since it is not useful for building the model\n",
    "\n",
    "election <- election[,-1]\n",
    "head(election)"
   ]
  },
  {
   "cell_type": "code",
   "execution_count": 28,
   "metadata": {},
   "outputs": [
    {
     "name": "stdout",
     "output_type": "stream",
     "text": [
      "'data.frame':\t10 obs. of  4 variables:\n",
      " $ Result         : int  0 1 1 0 1 0 1 1 1 0\n",
      " $ Year           : int  32 48 51 40 52 35 39 42 44 50\n",
      " $ Amount.Spent   : num  3.81 6.32 3.67 2.93 3.6 4.2 5.66 4.32 3.26 4.52\n",
      " $ Popularity.Rank: int  3 2 1 4 1 4 2 3 3 4\n"
     ]
    }
   ],
   "source": [
    "#Let's see the data structure\n",
    "str(election)"
   ]
  },
  {
   "cell_type": "code",
   "execution_count": 29,
   "metadata": {},
   "outputs": [
    {
     "data": {
      "text/plain": [
       "     Result         Year        Amount.Spent   Popularity.Rank\n",
       " Min.   :0.0   Min.   :32.00   Min.   :2.930   Min.   :1.00   \n",
       " 1st Qu.:0.0   1st Qu.:39.25   1st Qu.:3.618   1st Qu.:2.00   \n",
       " Median :1.0   Median :43.00   Median :4.005   Median :3.00   \n",
       " Mean   :0.6   Mean   :43.30   Mean   :4.229   Mean   :2.70   \n",
       " 3rd Qu.:1.0   3rd Qu.:49.50   3rd Qu.:4.470   3rd Qu.:3.75   \n",
       " Max.   :1.0   Max.   :52.00   Max.   :6.320   Max.   :4.00   "
      ]
     },
     "metadata": {},
     "output_type": "display_data"
    }
   ],
   "source": [
    "#Let's see the summary stats of the data frame\n",
    "summary(election)"
   ]
  },
  {
   "cell_type": "code",
   "execution_count": 31,
   "metadata": {},
   "outputs": [
    {
     "data": {
      "text/html": [
       "<table>\n",
       "<thead><tr><th></th><th scope=col>Result</th><th scope=col>Year</th><th scope=col>Amount.Spent</th><th scope=col>Popularity.Rank</th></tr></thead>\n",
       "<tbody>\n",
       "\t<tr><th scope=row>0%</th><td>0     </td><td>32.000</td><td>2.9300</td><td>1.00  </td></tr>\n",
       "\t<tr><th scope=row>25%</th><td>0     </td><td>39.250</td><td>3.6175</td><td>2.00  </td></tr>\n",
       "\t<tr><th scope=row>50%</th><td>1     </td><td>43.000</td><td>4.0050</td><td>3.00  </td></tr>\n",
       "\t<tr><th scope=row>75%</th><td>1     </td><td>49.500</td><td>4.4700</td><td>3.75  </td></tr>\n",
       "\t<tr><th scope=row>90%</th><td>1     </td><td>51.100</td><td>5.7260</td><td>4.00  </td></tr>\n",
       "\t<tr><th scope=row>95%</th><td>1     </td><td>51.550</td><td>6.0230</td><td>4.00  </td></tr>\n",
       "\t<tr><th scope=row>99%</th><td>1     </td><td>51.910</td><td>6.2606</td><td>4.00  </td></tr>\n",
       "\t<tr><th scope=row>99.5%</th><td>1     </td><td>51.955</td><td>6.2903</td><td>4.00  </td></tr>\n",
       "\t<tr><th scope=row>100%</th><td>1     </td><td>52.000</td><td>6.3200</td><td>4.00  </td></tr>\n",
       "</tbody>\n",
       "</table>\n"
      ],
      "text/latex": [
       "\\begin{tabular}{r|llll}\n",
       "  & Result & Year & Amount.Spent & Popularity.Rank\\\\\n",
       "\\hline\n",
       "\t0\\% & 0      & 32.000 & 2.9300 & 1.00  \\\\\n",
       "\t25\\% & 0      & 39.250 & 3.6175 & 2.00  \\\\\n",
       "\t50\\% & 1      & 43.000 & 4.0050 & 3.00  \\\\\n",
       "\t75\\% & 1      & 49.500 & 4.4700 & 3.75  \\\\\n",
       "\t90\\% & 1      & 51.100 & 5.7260 & 4.00  \\\\\n",
       "\t95\\% & 1      & 51.550 & 6.0230 & 4.00  \\\\\n",
       "\t99\\% & 1      & 51.910 & 6.2606 & 4.00  \\\\\n",
       "\t99.5\\% & 1      & 51.955 & 6.2903 & 4.00  \\\\\n",
       "\t100\\% & 1      & 52.000 & 6.3200 & 4.00  \\\\\n",
       "\\end{tabular}\n"
      ],
      "text/markdown": [
       "\n",
       "| <!--/--> | Result | Year | Amount.Spent | Popularity.Rank |\n",
       "|---|---|---|---|---|\n",
       "| 0% | 0      | 32.000 | 2.9300 | 1.00   |\n",
       "| 25% | 0      | 39.250 | 3.6175 | 2.00   |\n",
       "| 50% | 1      | 43.000 | 4.0050 | 3.00   |\n",
       "| 75% | 1      | 49.500 | 4.4700 | 3.75   |\n",
       "| 90% | 1      | 51.100 | 5.7260 | 4.00   |\n",
       "| 95% | 1      | 51.550 | 6.0230 | 4.00   |\n",
       "| 99% | 1      | 51.910 | 6.2606 | 4.00   |\n",
       "| 99.5% | 1      | 51.955 | 6.2903 | 4.00   |\n",
       "| 100% | 1      | 52.000 | 6.3200 | 4.00   |\n",
       "\n"
      ],
      "text/plain": [
       "      Result Year   Amount.Spent Popularity.Rank\n",
       "0%    0      32.000 2.9300       1.00           \n",
       "25%   0      39.250 3.6175       2.00           \n",
       "50%   1      43.000 4.0050       3.00           \n",
       "75%   1      49.500 4.4700       3.75           \n",
       "90%   1      51.100 5.7260       4.00           \n",
       "95%   1      51.550 6.0230       4.00           \n",
       "99%   1      51.910 6.2606       4.00           \n",
       "99.5% 1      51.955 6.2903       4.00           \n",
       "100%  1      52.000 6.3200       4.00           "
      ]
     },
     "metadata": {},
     "output_type": "display_data"
    }
   ],
   "source": [
    "## Lets check if any outliers present by checking the percentiles till 99.5%\n",
    "quants <- c(0,0.25,0.50,0.75,0.90,0.95,0.99,0.995,1)\n",
    "apply( election[1:4] , 2 , quantile , probs = quants , na.rm = TRUE )"
   ]
  },
  {
   "cell_type": "markdown",
   "metadata": {},
   "source": [
    "From above summary we cleary see that there are no outliers."
   ]
  },
  {
   "cell_type": "markdown",
   "metadata": {},
   "source": [
    "### Checking collinearity"
   ]
  },
  {
   "cell_type": "code",
   "execution_count": 32,
   "metadata": {},
   "outputs": [
    {
     "data": {
      "text/html": [
       "<table>\n",
       "<thead><tr><th></th><th scope=col>Result</th><th scope=col>Year</th><th scope=col>Amount.Spent</th><th scope=col>Popularity.Rank</th></tr></thead>\n",
       "<tbody>\n",
       "\t<tr><th scope=row>Result</th><td> 1.00</td><td> 0.50</td><td> 0.30</td><td>-0.78</td></tr>\n",
       "\t<tr><th scope=row>Year</th><td> 0.50</td><td> 1.00</td><td> 0.07</td><td>-0.53</td></tr>\n",
       "\t<tr><th scope=row>Amount.Spent</th><td> 0.30</td><td> 0.07</td><td> 1.00</td><td>-0.20</td></tr>\n",
       "\t<tr><th scope=row>Popularity.Rank</th><td>-0.78</td><td>-0.53</td><td>-0.20</td><td> 1.00</td></tr>\n",
       "</tbody>\n",
       "</table>\n"
      ],
      "text/latex": [
       "\\begin{tabular}{r|llll}\n",
       "  & Result & Year & Amount.Spent & Popularity.Rank\\\\\n",
       "\\hline\n",
       "\tResult &  1.00 &  0.50 &  0.30 & -0.78\\\\\n",
       "\tYear &  0.50 &  1.00 &  0.07 & -0.53\\\\\n",
       "\tAmount.Spent &  0.30 &  0.07 &  1.00 & -0.20\\\\\n",
       "\tPopularity.Rank & -0.78 & -0.53 & -0.20 &  1.00\\\\\n",
       "\\end{tabular}\n"
      ],
      "text/markdown": [
       "\n",
       "| <!--/--> | Result | Year | Amount.Spent | Popularity.Rank |\n",
       "|---|---|---|---|---|\n",
       "| Result |  1.00 |  0.50 |  0.30 | -0.78 |\n",
       "| Year |  0.50 |  1.00 |  0.07 | -0.53 |\n",
       "| Amount.Spent |  0.30 |  0.07 |  1.00 | -0.20 |\n",
       "| Popularity.Rank | -0.78 | -0.53 | -0.20 |  1.00 |\n",
       "\n"
      ],
      "text/plain": [
       "                Result Year  Amount.Spent Popularity.Rank\n",
       "Result           1.00   0.50  0.30        -0.78          \n",
       "Year             0.50   1.00  0.07        -0.53          \n",
       "Amount.Spent     0.30   0.07  1.00        -0.20          \n",
       "Popularity.Rank -0.78  -0.53 -0.20         1.00          "
      ]
     },
     "metadata": {},
     "output_type": "display_data"
    }
   ],
   "source": [
    "round(cor(election),2)"
   ]
  },
  {
   "cell_type": "markdown",
   "metadata": {},
   "source": [
    "### Scaling - Normalizing"
   ]
  },
  {
   "cell_type": "code",
   "execution_count": 33,
   "metadata": {},
   "outputs": [
    {
     "name": "stderr",
     "output_type": "stream",
     "text": [
      "Loading required package: lattice\n",
      "Loading required package: ggplot2\n"
     ]
    }
   ],
   "source": [
    "library('caret')"
   ]
  },
  {
   "cell_type": "markdown",
   "metadata": {},
   "source": [
    "### Train and Test Split"
   ]
  },
  {
   "cell_type": "code",
   "execution_count": 34,
   "metadata": {},
   "outputs": [],
   "source": [
    "library('caTools') \n",
    "set.seed(123) \n",
    "split = sample.split(election, SplitRatio = 0.7) \n",
    "train = subset(election, split == TRUE)\n",
    "test = subset(election, split == FALSE) "
   ]
  },
  {
   "cell_type": "code",
   "execution_count": 35,
   "metadata": {},
   "outputs": [
    {
     "data": {
      "text/html": [
       "<table>\n",
       "<thead><tr><th></th><th scope=col>Result</th><th scope=col>Year</th><th scope=col>Amount.Spent</th><th scope=col>Popularity.Rank</th></tr></thead>\n",
       "<tbody>\n",
       "\t<tr><th scope=row>2</th><td>0   </td><td>32  </td><td>3.81</td><td>3   </td></tr>\n",
       "\t<tr><th scope=row>4</th><td>1   </td><td>51  </td><td>3.67</td><td>1   </td></tr>\n",
       "\t<tr><th scope=row>6</th><td>1   </td><td>52  </td><td>3.60</td><td>1   </td></tr>\n",
       "\t<tr><th scope=row>8</th><td>1   </td><td>39  </td><td>5.66</td><td>2   </td></tr>\n",
       "\t<tr><th scope=row>10</th><td>1   </td><td>44  </td><td>3.26</td><td>3   </td></tr>\n",
       "</tbody>\n",
       "</table>\n"
      ],
      "text/latex": [
       "\\begin{tabular}{r|llll}\n",
       "  & Result & Year & Amount.Spent & Popularity.Rank\\\\\n",
       "\\hline\n",
       "\t2 & 0    & 32   & 3.81 & 3   \\\\\n",
       "\t4 & 1    & 51   & 3.67 & 1   \\\\\n",
       "\t6 & 1    & 52   & 3.60 & 1   \\\\\n",
       "\t8 & 1    & 39   & 5.66 & 2   \\\\\n",
       "\t10 & 1    & 44   & 3.26 & 3   \\\\\n",
       "\\end{tabular}\n"
      ],
      "text/markdown": [
       "\n",
       "| <!--/--> | Result | Year | Amount.Spent | Popularity.Rank |\n",
       "|---|---|---|---|---|\n",
       "| 2 | 0    | 32   | 3.81 | 3    |\n",
       "| 4 | 1    | 51   | 3.67 | 1    |\n",
       "| 6 | 1    | 52   | 3.60 | 1    |\n",
       "| 8 | 1    | 39   | 5.66 | 2    |\n",
       "| 10 | 1    | 44   | 3.26 | 3    |\n",
       "\n"
      ],
      "text/plain": [
       "   Result Year Amount.Spent Popularity.Rank\n",
       "2  0      32   3.81         3              \n",
       "4  1      51   3.67         1              \n",
       "6  1      52   3.60         1              \n",
       "8  1      39   5.66         2              \n",
       "10 1      44   3.26         3              "
      ]
     },
     "metadata": {},
     "output_type": "display_data"
    }
   ],
   "source": [
    "head(train)"
   ]
  },
  {
   "cell_type": "code",
   "execution_count": 36,
   "metadata": {},
   "outputs": [
    {
     "data": {
      "text/plain": [
       "     Result         Year       Amount.Spent    Popularity.Rank\n",
       " Min.   :0.0   Min.   :0.00   Min.   :0.0000   Min.   :0.0    \n",
       " 1st Qu.:1.0   1st Qu.:0.35   1st Qu.:0.1417   1st Qu.:0.0    \n",
       " Median :1.0   Median :0.60   Median :0.1708   Median :0.5    \n",
       " Mean   :0.8   Mean   :0.58   Mean   :0.3083   Mean   :0.5    \n",
       " 3rd Qu.:1.0   3rd Qu.:0.95   3rd Qu.:0.2292   3rd Qu.:1.0    \n",
       " Max.   :1.0   Max.   :1.00   Max.   :1.0000   Max.   :1.0    "
      ]
     },
     "metadata": {},
     "output_type": "display_data"
    }
   ],
   "source": [
    "library('caret')\n",
    "preproc = preProcess(train, method = c(\"range\"))\n",
    "\n",
    "train_norm <- predict(preproc, train)\n",
    " \n",
    "summary(train_norm)"
   ]
  },
  {
   "cell_type": "markdown",
   "metadata": {},
   "source": [
    "### Building the First Training Model"
   ]
  },
  {
   "cell_type": "code",
   "execution_count": 45,
   "metadata": {},
   "outputs": [
    {
     "data": {
      "text/plain": [
       "\n",
       "Call:\n",
       "glm(formula = Result ~ ., family = \"binomial\", data = train_norm)\n",
       "\n",
       "Deviance Residuals: \n",
       "         2           4           6           8          10  \n",
       "-6.786e-06   9.338e-06   1.534e-06   6.503e-06   6.807e-06  \n",
       "\n",
       "Coefficients:\n",
       "                 Estimate Std. Error z value Pr(>|z|)\n",
       "(Intercept)        -78.60  375921.91       0        1\n",
       "Year                99.46  347245.88       0        1\n",
       "Amount.Spent        46.66  223171.57       0        1\n",
       "Popularity.Rank     43.42  266862.76       0        1\n",
       "\n",
       "(Dispersion parameter for binomial family taken to be 1)\n",
       "\n",
       "    Null deviance: 5.0040e+00  on 4  degrees of freedom\n",
       "Residual deviance: 2.2422e-10  on 1  degrees of freedom\n",
       "AIC: 8\n",
       "\n",
       "Number of Fisher Scoring iterations: 23\n"
      ]
     },
     "metadata": {},
     "output_type": "display_data"
    }
   ],
   "source": [
    "logm1 <- glm(Result~.,data=train_norm, family='binomial')\n",
    "summary(logm1)"
   ]
  },
  {
   "cell_type": "markdown",
   "metadata": {},
   "source": [
    "Here we can see p value is high for all three features. Let's see VIF for them."
   ]
  },
  {
   "cell_type": "markdown",
   "metadata": {},
   "source": [
    "### Checking VIF"
   ]
  },
  {
   "cell_type": "code",
   "execution_count": 39,
   "metadata": {},
   "outputs": [
    {
     "name": "stderr",
     "output_type": "stream",
     "text": [
      "Registered S3 methods overwritten by 'fmsb':\n",
      "  method    from\n",
      "  print.roc pROC\n",
      "  plot.roc  pROC\n"
     ]
    }
   ],
   "source": [
    "library(fmsb)"
   ]
  },
  {
   "cell_type": "code",
   "execution_count": 40,
   "metadata": {},
   "outputs": [],
   "source": [
    "vif_func<-function(in_frame,thresh=10,trace=T,...){\n",
    "  \n",
    "  require(fmsb)\n",
    "  \n",
    "  if(class(in_frame) != 'data.frame') in_frame<-data.frame(in_frame)\n",
    "  \n",
    "  #get initial vif value for all comparisons of variables\n",
    "  vif_init<-NULL\n",
    "  var_names <- names(in_frame)\n",
    "  for(val in var_names){\n",
    "    regressors <- var_names[-which(var_names == val)]\n",
    "    form <- paste(regressors, collapse = '+')\n",
    "    form_in <- formula(paste(val, '~', form))\n",
    "    vif_init<-rbind(vif_init, c(val, VIF(lm(form_in, data = in_frame, ...))))\n",
    "  }\n",
    "  vif_max<-max(as.numeric(vif_init[,2]), na.rm = TRUE)\n",
    "  \n",
    "  if(vif_max < thresh){\n",
    "    if(trace==T){ #print output of each iteration\n",
    "      prmatrix(vif_init,collab=c('var','vif'),rowlab=rep('',nrow(vif_init)),quote=F)\n",
    "      cat('\\n')\n",
    "      cat(paste('All variables have VIF < ', thresh,', max VIF ',round(vif_max,2), sep=''),'\\n\\n')\n",
    "    }\n",
    "    return(var_names)\n",
    "  }\n",
    "  else{\n",
    "    \n",
    "    in_dat<-in_frame\n",
    "    \n",
    "    #backwards selection of explanatory variables, stops when all VIF values are below 'thresh'\n",
    "    while(vif_max >= thresh){\n",
    "      \n",
    "      vif_vals<-NULL\n",
    "      var_names <- names(in_dat)\n",
    "      \n",
    "      for(val in var_names){\n",
    "        regressors <- var_names[-which(var_names == val)]\n",
    "        form <- paste(regressors, collapse = '+')\n",
    "        form_in <- formula(paste(val, '~', form))\n",
    "        vif_add<-VIF(lm(form_in, data = in_dat, ...))\n",
    "        vif_vals<-rbind(vif_vals,c(val,vif_add))\n",
    "      }\n",
    "      max_row<-which(vif_vals[,2] == max(as.numeric(vif_vals[,2]), na.rm = TRUE))[1]\n",
    "      \n",
    "      vif_max<-as.numeric(vif_vals[max_row,2])\n",
    "      \n",
    "      if(vif_max<thresh) break\n",
    "      \n",
    "      if(trace==T){ #print output of each iteration\n",
    "        prmatrix(vif_vals,collab=c('var','vif'),rowlab=rep('',nrow(vif_vals)),quote=F)\n",
    "        cat('\\n')\n",
    "        cat('removed: ',vif_vals[max_row,1],vif_max,'\\n\\n')\n",
    "        flush.console()\n",
    "      }\n",
    "      \n",
    "      in_dat<-in_dat[,!names(in_dat) %in% vif_vals[max_row,1]]\n",
    "      \n",
    "    }\n",
    "    \n",
    "    return(names(in_dat))\n",
    "    \n",
    "  }\n",
    "  \n",
    "}"
   ]
  },
  {
   "cell_type": "code",
   "execution_count": 41,
   "metadata": {},
   "outputs": [
    {
     "name": "stdout",
     "output_type": "stream",
     "text": [
      " var             vif             \n",
      " Result          297.105453124988\n",
      " Year            1076.1447109376 \n",
      " Amount.Spent    217.760507812496\n",
      " Popularity.Rank 310.259765625   \n",
      "\n",
      "removed:  Year 1076.145 \n",
      "\n"
     ]
    }
   ],
   "source": [
    "col<- vif_func(in_frame=train_norm,thresh=5,trace=T)"
   ]
  },
  {
   "cell_type": "markdown",
   "metadata": {},
   "source": [
    "### Conclusion"
   ]
  },
  {
   "cell_type": "markdown",
   "metadata": {},
   "source": [
    "Here p vaue is insignificant for all three features and also VIF is too high among them. So, the model we build is not good. The reason may be the dataset that we are using is too small. If we have better dataset with more features, we may build good model.  "
   ]
  }
 ],
 "metadata": {
  "kernelspec": {
   "display_name": "R",
   "language": "R",
   "name": "ir"
  },
  "language_info": {
   "codemirror_mode": "r",
   "file_extension": ".r",
   "mimetype": "text/x-r-source",
   "name": "R",
   "pygments_lexer": "r",
   "version": "3.6.1"
  }
 },
 "nbformat": 4,
 "nbformat_minor": 4
}
