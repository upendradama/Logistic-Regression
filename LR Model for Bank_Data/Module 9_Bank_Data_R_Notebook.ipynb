{
 "cells": [
  {
   "cell_type": "markdown",
   "metadata": {},
   "source": [
    "# Logistic Regression\n",
    "\n",
    "### Problem Statement :- \n",
    "        - Whether the clinet has subscribed a term deposit or not "
   ]
  },
  {
   "cell_type": "markdown",
   "metadata": {},
   "source": [
    "### Data Cleaning & Processing"
   ]
  },
  {
   "cell_type": "markdown",
   "metadata": {},
   "source": [
    "Loading the dataset"
   ]
  },
  {
   "cell_type": "code",
   "execution_count": 2,
   "metadata": {},
   "outputs": [],
   "source": [
    "deposit <- read.csv(\"~/desktop/Digi 360/Module 9/bank_data.csv\")"
   ]
  },
  {
   "cell_type": "code",
   "execution_count": 3,
   "metadata": {},
   "outputs": [
    {
     "data": {
      "text/html": [
       "<table>\n",
       "<thead><tr><th scope=col>age</th><th scope=col>default</th><th scope=col>balance</th><th scope=col>housing</th><th scope=col>loan</th><th scope=col>duration</th><th scope=col>campaign</th><th scope=col>pdays</th><th scope=col>previous</th><th scope=col>poutfailure</th><th scope=col>...</th><th scope=col>johousemaid</th><th scope=col>jomanagement</th><th scope=col>joretired</th><th scope=col>joself.employed</th><th scope=col>joservices</th><th scope=col>jostudent</th><th scope=col>jotechnician</th><th scope=col>jounemployed</th><th scope=col>jounknown</th><th scope=col>y</th></tr></thead>\n",
       "<tbody>\n",
       "\t<tr><td>58  </td><td>0   </td><td>2143</td><td>1   </td><td>0   </td><td>261 </td><td>1   </td><td>-1  </td><td>0   </td><td>0   </td><td>... </td><td>0   </td><td>1   </td><td>0   </td><td>0   </td><td>0   </td><td>0   </td><td>0   </td><td>0   </td><td>0   </td><td>0   </td></tr>\n",
       "\t<tr><td>44  </td><td>0   </td><td>  29</td><td>1   </td><td>0   </td><td>151 </td><td>1   </td><td>-1  </td><td>0   </td><td>0   </td><td>... </td><td>0   </td><td>0   </td><td>0   </td><td>0   </td><td>0   </td><td>0   </td><td>1   </td><td>0   </td><td>0   </td><td>0   </td></tr>\n",
       "\t<tr><td>33  </td><td>0   </td><td>   2</td><td>1   </td><td>1   </td><td> 76 </td><td>1   </td><td>-1  </td><td>0   </td><td>0   </td><td>... </td><td>0   </td><td>0   </td><td>0   </td><td>0   </td><td>0   </td><td>0   </td><td>0   </td><td>0   </td><td>0   </td><td>0   </td></tr>\n",
       "\t<tr><td>47  </td><td>0   </td><td>1506</td><td>1   </td><td>0   </td><td> 92 </td><td>1   </td><td>-1  </td><td>0   </td><td>0   </td><td>... </td><td>0   </td><td>0   </td><td>0   </td><td>0   </td><td>0   </td><td>0   </td><td>0   </td><td>0   </td><td>0   </td><td>0   </td></tr>\n",
       "\t<tr><td>33  </td><td>0   </td><td>   1</td><td>0   </td><td>0   </td><td>198 </td><td>1   </td><td>-1  </td><td>0   </td><td>0   </td><td>... </td><td>0   </td><td>0   </td><td>0   </td><td>0   </td><td>0   </td><td>0   </td><td>0   </td><td>0   </td><td>1   </td><td>0   </td></tr>\n",
       "</tbody>\n",
       "</table>\n"
      ],
      "text/latex": [
       "\\begin{tabular}{r|llllllllllllllllllllllllllllllll}\n",
       " age & default & balance & housing & loan & duration & campaign & pdays & previous & poutfailure & ... & johousemaid & jomanagement & joretired & joself.employed & joservices & jostudent & jotechnician & jounemployed & jounknown & y\\\\\n",
       "\\hline\n",
       "\t 58   & 0    & 2143 & 1    & 0    & 261  & 1    & -1   & 0    & 0    & ...  & 0    & 1    & 0    & 0    & 0    & 0    & 0    & 0    & 0    & 0   \\\\\n",
       "\t 44   & 0    &   29 & 1    & 0    & 151  & 1    & -1   & 0    & 0    & ...  & 0    & 0    & 0    & 0    & 0    & 0    & 1    & 0    & 0    & 0   \\\\\n",
       "\t 33   & 0    &    2 & 1    & 1    &  76  & 1    & -1   & 0    & 0    & ...  & 0    & 0    & 0    & 0    & 0    & 0    & 0    & 0    & 0    & 0   \\\\\n",
       "\t 47   & 0    & 1506 & 1    & 0    &  92  & 1    & -1   & 0    & 0    & ...  & 0    & 0    & 0    & 0    & 0    & 0    & 0    & 0    & 0    & 0   \\\\\n",
       "\t 33   & 0    &    1 & 0    & 0    & 198  & 1    & -1   & 0    & 0    & ...  & 0    & 0    & 0    & 0    & 0    & 0    & 0    & 0    & 1    & 0   \\\\\n",
       "\\end{tabular}\n"
      ],
      "text/markdown": [
       "\n",
       "| age | default | balance | housing | loan | duration | campaign | pdays | previous | poutfailure | ... | johousemaid | jomanagement | joretired | joself.employed | joservices | jostudent | jotechnician | jounemployed | jounknown | y |\n",
       "|---|---|---|---|---|---|---|---|---|---|---|---|---|---|---|---|---|---|---|---|---|\n",
       "| 58   | 0    | 2143 | 1    | 0    | 261  | 1    | -1   | 0    | 0    | ...  | 0    | 1    | 0    | 0    | 0    | 0    | 0    | 0    | 0    | 0    |\n",
       "| 44   | 0    |   29 | 1    | 0    | 151  | 1    | -1   | 0    | 0    | ...  | 0    | 0    | 0    | 0    | 0    | 0    | 1    | 0    | 0    | 0    |\n",
       "| 33   | 0    |    2 | 1    | 1    |  76  | 1    | -1   | 0    | 0    | ...  | 0    | 0    | 0    | 0    | 0    | 0    | 0    | 0    | 0    | 0    |\n",
       "| 47   | 0    | 1506 | 1    | 0    |  92  | 1    | -1   | 0    | 0    | ...  | 0    | 0    | 0    | 0    | 0    | 0    | 0    | 0    | 0    | 0    |\n",
       "| 33   | 0    |    1 | 0    | 0    | 198  | 1    | -1   | 0    | 0    | ...  | 0    | 0    | 0    | 0    | 0    | 0    | 0    | 0    | 1    | 0    |\n",
       "\n"
      ],
      "text/plain": [
       "  age default balance housing loan duration campaign pdays previous poutfailure\n",
       "1 58  0       2143    1       0    261      1        -1    0        0          \n",
       "2 44  0         29    1       0    151      1        -1    0        0          \n",
       "3 33  0          2    1       1     76      1        -1    0        0          \n",
       "4 47  0       1506    1       0     92      1        -1    0        0          \n",
       "5 33  0          1    0       0    198      1        -1    0        0          \n",
       "  ... johousemaid jomanagement joretired joself.employed joservices jostudent\n",
       "1 ... 0           1            0         0               0          0        \n",
       "2 ... 0           0            0         0               0          0        \n",
       "3 ... 0           0            0         0               0          0        \n",
       "4 ... 0           0            0         0               0          0        \n",
       "5 ... 0           0            0         0               0          0        \n",
       "  jotechnician jounemployed jounknown y\n",
       "1 0            0            0         0\n",
       "2 1            0            0         0\n",
       "3 0            0            0         0\n",
       "4 0            0            0         0\n",
       "5 0            0            1         0"
      ]
     },
     "metadata": {},
     "output_type": "display_data"
    }
   ],
   "source": [
    "head(deposit,5)"
   ]
  },
  {
   "cell_type": "code",
   "execution_count": 4,
   "metadata": {},
   "outputs": [
    {
     "data": {
      "text/html": [
       "0"
      ],
      "text/latex": [
       "0"
      ],
      "text/markdown": [
       "0"
      ],
      "text/plain": [
       "[1] 0"
      ]
     },
     "metadata": {},
     "output_type": "display_data"
    }
   ],
   "source": [
    "## Finding the null values\n",
    "sum(is.na(deposit))"
   ]
  },
  {
   "cell_type": "code",
   "execution_count": 5,
   "metadata": {},
   "outputs": [
    {
     "name": "stdout",
     "output_type": "stream",
     "text": [
      "'data.frame':\t45211 obs. of  32 variables:\n",
      " $ age            : int  58 44 33 47 33 35 28 42 58 43 ...\n",
      " $ default        : int  0 0 0 0 0 0 0 1 0 0 ...\n",
      " $ balance        : int  2143 29 2 1506 1 231 447 2 121 593 ...\n",
      " $ housing        : int  1 1 1 1 0 1 1 1 1 1 ...\n",
      " $ loan           : int  0 0 1 0 0 0 1 0 0 0 ...\n",
      " $ duration       : int  261 151 76 92 198 139 217 380 50 55 ...\n",
      " $ campaign       : int  1 1 1 1 1 1 1 1 1 1 ...\n",
      " $ pdays          : int  -1 -1 -1 -1 -1 -1 -1 -1 -1 -1 ...\n",
      " $ previous       : int  0 0 0 0 0 0 0 0 0 0 ...\n",
      " $ poutfailure    : int  0 0 0 0 0 0 0 0 0 0 ...\n",
      " $ poutother      : int  0 0 0 0 0 0 0 0 0 0 ...\n",
      " $ poutsuccess    : int  0 0 0 0 0 0 0 0 0 0 ...\n",
      " $ poutunknown    : int  1 1 1 1 1 1 1 1 1 1 ...\n",
      " $ con_cellular   : int  0 0 0 0 0 0 0 0 0 0 ...\n",
      " $ con_telephone  : int  0 0 0 0 0 0 0 0 0 0 ...\n",
      " $ con_unknown    : int  1 1 1 1 1 1 1 1 1 1 ...\n",
      " $ divorced       : int  0 0 0 0 0 0 0 1 0 0 ...\n",
      " $ married        : int  1 0 1 1 0 1 0 0 1 0 ...\n",
      " $ single         : int  0 1 0 0 1 0 1 0 0 1 ...\n",
      " $ joadmin.       : int  0 0 0 0 0 0 0 0 0 0 ...\n",
      " $ joblue.collar  : int  0 0 0 1 0 0 0 0 0 0 ...\n",
      " $ joentrepreneur : int  0 0 1 0 0 0 0 1 0 0 ...\n",
      " $ johousemaid    : int  0 0 0 0 0 0 0 0 0 0 ...\n",
      " $ jomanagement   : int  1 0 0 0 0 1 1 0 0 0 ...\n",
      " $ joretired      : int  0 0 0 0 0 0 0 0 1 0 ...\n",
      " $ joself.employed: int  0 0 0 0 0 0 0 0 0 0 ...\n",
      " $ joservices     : int  0 0 0 0 0 0 0 0 0 0 ...\n",
      " $ jostudent      : int  0 0 0 0 0 0 0 0 0 0 ...\n",
      " $ jotechnician   : int  0 1 0 0 0 0 0 0 0 1 ...\n",
      " $ jounemployed   : int  0 0 0 0 0 0 0 0 0 0 ...\n",
      " $ jounknown      : int  0 0 0 0 1 0 0 0 0 0 ...\n",
      " $ y              : int  0 0 0 0 0 0 0 0 0 0 ...\n"
     ]
    }
   ],
   "source": [
    "#Let's see the data structure\n",
    "str(deposit)"
   ]
  },
  {
   "cell_type": "code",
   "execution_count": 6,
   "metadata": {},
   "outputs": [
    {
     "data": {
      "text/plain": [
       "      age           default           balance          housing      \n",
       " Min.   :18.00   Min.   :0.00000   Min.   : -8019   Min.   :0.0000  \n",
       " 1st Qu.:33.00   1st Qu.:0.00000   1st Qu.:    72   1st Qu.:0.0000  \n",
       " Median :39.00   Median :0.00000   Median :   448   Median :1.0000  \n",
       " Mean   :40.94   Mean   :0.01803   Mean   :  1362   Mean   :0.5558  \n",
       " 3rd Qu.:48.00   3rd Qu.:0.00000   3rd Qu.:  1428   3rd Qu.:1.0000  \n",
       " Max.   :95.00   Max.   :1.00000   Max.   :102127   Max.   :1.0000  \n",
       "      loan           duration         campaign          pdays      \n",
       " Min.   :0.0000   Min.   :   0.0   Min.   : 1.000   Min.   : -1.0  \n",
       " 1st Qu.:0.0000   1st Qu.: 103.0   1st Qu.: 1.000   1st Qu.: -1.0  \n",
       " Median :0.0000   Median : 180.0   Median : 2.000   Median : -1.0  \n",
       " Mean   :0.1602   Mean   : 258.2   Mean   : 2.764   Mean   : 40.2  \n",
       " 3rd Qu.:0.0000   3rd Qu.: 319.0   3rd Qu.: 3.000   3rd Qu.: -1.0  \n",
       " Max.   :1.0000   Max.   :4918.0   Max.   :63.000   Max.   :871.0  \n",
       "    previous         poutfailure       poutother       poutsuccess     \n",
       " Min.   :  0.0000   Min.   :0.0000   Min.   :0.0000   Min.   :0.00000  \n",
       " 1st Qu.:  0.0000   1st Qu.:0.0000   1st Qu.:0.0000   1st Qu.:0.00000  \n",
       " Median :  0.0000   Median :0.0000   Median :0.0000   Median :0.00000  \n",
       " Mean   :  0.5803   Mean   :0.1084   Mean   :0.0407   Mean   :0.03342  \n",
       " 3rd Qu.:  0.0000   3rd Qu.:0.0000   3rd Qu.:0.0000   3rd Qu.:0.00000  \n",
       " Max.   :275.0000   Max.   :1.0000   Max.   :1.0000   Max.   :1.00000  \n",
       "  poutunknown      con_cellular    con_telephone      con_unknown   \n",
       " Min.   :0.0000   Min.   :0.0000   Min.   :0.00000   Min.   :0.000  \n",
       " 1st Qu.:1.0000   1st Qu.:0.0000   1st Qu.:0.00000   1st Qu.:0.000  \n",
       " Median :1.0000   Median :1.0000   Median :0.00000   Median :0.000  \n",
       " Mean   :0.8175   Mean   :0.6477   Mean   :0.06428   Mean   :0.288  \n",
       " 3rd Qu.:1.0000   3rd Qu.:1.0000   3rd Qu.:0.00000   3rd Qu.:1.000  \n",
       " Max.   :1.0000   Max.   :1.0000   Max.   :1.00000   Max.   :1.000  \n",
       "    divorced         married           single          joadmin.     \n",
       " Min.   :0.0000   Min.   :0.0000   Min.   :0.0000   Min.   :0.0000  \n",
       " 1st Qu.:0.0000   1st Qu.:0.0000   1st Qu.:0.0000   1st Qu.:0.0000  \n",
       " Median :0.0000   Median :1.0000   Median :0.0000   Median :0.0000  \n",
       " Mean   :0.1152   Mean   :0.6019   Mean   :0.2829   Mean   :0.1144  \n",
       " 3rd Qu.:0.0000   3rd Qu.:1.0000   3rd Qu.:1.0000   3rd Qu.:0.0000  \n",
       " Max.   :1.0000   Max.   :1.0000   Max.   :1.0000   Max.   :1.0000  \n",
       " joblue.collar    joentrepreneur     johousemaid       jomanagement   \n",
       " Min.   :0.0000   Min.   :0.00000   Min.   :0.00000   Min.   :0.0000  \n",
       " 1st Qu.:0.0000   1st Qu.:0.00000   1st Qu.:0.00000   1st Qu.:0.0000  \n",
       " Median :0.0000   Median :0.00000   Median :0.00000   Median :0.0000  \n",
       " Mean   :0.2153   Mean   :0.03289   Mean   :0.02743   Mean   :0.2092  \n",
       " 3rd Qu.:0.0000   3rd Qu.:0.00000   3rd Qu.:0.00000   3rd Qu.:0.0000  \n",
       " Max.   :1.0000   Max.   :1.00000   Max.   :1.00000   Max.   :1.0000  \n",
       "   joretired       joself.employed     joservices        jostudent      \n",
       " Min.   :0.00000   Min.   :0.00000   Min.   :0.00000   Min.   :0.00000  \n",
       " 1st Qu.:0.00000   1st Qu.:0.00000   1st Qu.:0.00000   1st Qu.:0.00000  \n",
       " Median :0.00000   Median :0.00000   Median :0.00000   Median :0.00000  \n",
       " Mean   :0.05008   Mean   :0.03493   Mean   :0.09188   Mean   :0.02075  \n",
       " 3rd Qu.:0.00000   3rd Qu.:0.00000   3rd Qu.:0.00000   3rd Qu.:0.00000  \n",
       " Max.   :1.00000   Max.   :1.00000   Max.   :1.00000   Max.   :1.00000  \n",
       "  jotechnician    jounemployed       jounknown             y        \n",
       " Min.   :0.000   Min.   :0.00000   Min.   :0.00000   Min.   :0.000  \n",
       " 1st Qu.:0.000   1st Qu.:0.00000   1st Qu.:0.00000   1st Qu.:0.000  \n",
       " Median :0.000   Median :0.00000   Median :0.00000   Median :0.000  \n",
       " Mean   :0.168   Mean   :0.02882   Mean   :0.00637   Mean   :0.117  \n",
       " 3rd Qu.:0.000   3rd Qu.:0.00000   3rd Qu.:0.00000   3rd Qu.:0.000  \n",
       " Max.   :1.000   Max.   :1.00000   Max.   :1.00000   Max.   :1.000  "
      ]
     },
     "metadata": {},
     "output_type": "display_data"
    }
   ],
   "source": [
    "#Let's see the summary stats of the data frame\n",
    "summary(deposit)"
   ]
  },
  {
   "cell_type": "code",
   "execution_count": 7,
   "metadata": {},
   "outputs": [
    {
     "data": {
      "text/html": [
       "<table>\n",
       "<thead><tr><th></th><th scope=col>age</th><th scope=col>default</th><th scope=col>balance</th><th scope=col>housing</th><th scope=col>loan</th><th scope=col>duration</th><th scope=col>campaign</th><th scope=col>pdays</th><th scope=col>previous</th></tr></thead>\n",
       "<tbody>\n",
       "\t<tr><th scope=row>0%</th><td>18       </td><td>0        </td><td> -8019.00</td><td>0        </td><td>0        </td><td>   0.0   </td><td> 1       </td><td> -1      </td><td>  0.0    </td></tr>\n",
       "\t<tr><th scope=row>25%</th><td>33       </td><td>0        </td><td>    72.00</td><td>0        </td><td>0        </td><td> 103.0   </td><td> 1       </td><td> -1      </td><td>  0.0    </td></tr>\n",
       "\t<tr><th scope=row>50%</th><td>39       </td><td>0        </td><td>   448.00</td><td>1        </td><td>0        </td><td> 180.0   </td><td> 2       </td><td> -1      </td><td>  0.0    </td></tr>\n",
       "\t<tr><th scope=row>75%</th><td>48       </td><td>0        </td><td>  1428.00</td><td>1        </td><td>0        </td><td> 319.0   </td><td> 3       </td><td> -1      </td><td>  0.0    </td></tr>\n",
       "\t<tr><th scope=row>90%</th><td>56       </td><td>0        </td><td>  3574.00</td><td>1        </td><td>1        </td><td> 548.0   </td><td> 5       </td><td>185      </td><td>  2.0    </td></tr>\n",
       "\t<tr><th scope=row>95%</th><td>59       </td><td>0        </td><td>  5768.00</td><td>1        </td><td>1        </td><td> 751.0   </td><td> 8       </td><td>317      </td><td>  3.0    </td></tr>\n",
       "\t<tr><th scope=row>99%</th><td>71       </td><td>1        </td><td> 13164.90</td><td>1        </td><td>1        </td><td>1269.0   </td><td>16       </td><td>370      </td><td>  8.9    </td></tr>\n",
       "\t<tr><th scope=row>99.5%</th><td>77       </td><td>1        </td><td> 18014.35</td><td>1        </td><td>1        </td><td>1501.9   </td><td>21       </td><td>410      </td><td> 12.0    </td></tr>\n",
       "\t<tr><th scope=row>100%</th><td>95       </td><td>1        </td><td>102127.00</td><td>1        </td><td>1        </td><td>4918.0   </td><td>63       </td><td>871      </td><td>275.0    </td></tr>\n",
       "</tbody>\n",
       "</table>\n"
      ],
      "text/latex": [
       "\\begin{tabular}{r|lllllllll}\n",
       "  & age & default & balance & housing & loan & duration & campaign & pdays & previous\\\\\n",
       "\\hline\n",
       "\t0\\% & 18        & 0         &  -8019.00 & 0         & 0         &    0.0    &  1        &  -1       &   0.0    \\\\\n",
       "\t25\\% & 33        & 0         &     72.00 & 0         & 0         &  103.0    &  1        &  -1       &   0.0    \\\\\n",
       "\t50\\% & 39        & 0         &    448.00 & 1         & 0         &  180.0    &  2        &  -1       &   0.0    \\\\\n",
       "\t75\\% & 48        & 0         &   1428.00 & 1         & 0         &  319.0    &  3        &  -1       &   0.0    \\\\\n",
       "\t90\\% & 56        & 0         &   3574.00 & 1         & 1         &  548.0    &  5        & 185       &   2.0    \\\\\n",
       "\t95\\% & 59        & 0         &   5768.00 & 1         & 1         &  751.0    &  8        & 317       &   3.0    \\\\\n",
       "\t99\\% & 71        & 1         &  13164.90 & 1         & 1         & 1269.0    & 16        & 370       &   8.9    \\\\\n",
       "\t99.5\\% & 77        & 1         &  18014.35 & 1         & 1         & 1501.9    & 21        & 410       &  12.0    \\\\\n",
       "\t100\\% & 95        & 1         & 102127.00 & 1         & 1         & 4918.0    & 63        & 871       & 275.0    \\\\\n",
       "\\end{tabular}\n"
      ],
      "text/markdown": [
       "\n",
       "| <!--/--> | age | default | balance | housing | loan | duration | campaign | pdays | previous |\n",
       "|---|---|---|---|---|---|---|---|---|---|\n",
       "| 0% | 18        | 0         |  -8019.00 | 0         | 0         |    0.0    |  1        |  -1       |   0.0     |\n",
       "| 25% | 33        | 0         |     72.00 | 0         | 0         |  103.0    |  1        |  -1       |   0.0     |\n",
       "| 50% | 39        | 0         |    448.00 | 1         | 0         |  180.0    |  2        |  -1       |   0.0     |\n",
       "| 75% | 48        | 0         |   1428.00 | 1         | 0         |  319.0    |  3        |  -1       |   0.0     |\n",
       "| 90% | 56        | 0         |   3574.00 | 1         | 1         |  548.0    |  5        | 185       |   2.0     |\n",
       "| 95% | 59        | 0         |   5768.00 | 1         | 1         |  751.0    |  8        | 317       |   3.0     |\n",
       "| 99% | 71        | 1         |  13164.90 | 1         | 1         | 1269.0    | 16        | 370       |   8.9     |\n",
       "| 99.5% | 77        | 1         |  18014.35 | 1         | 1         | 1501.9    | 21        | 410       |  12.0     |\n",
       "| 100% | 95        | 1         | 102127.00 | 1         | 1         | 4918.0    | 63        | 871       | 275.0     |\n",
       "\n"
      ],
      "text/plain": [
       "      age default balance   housing loan duration campaign pdays previous\n",
       "0%    18  0        -8019.00 0       0       0.0    1        -1     0.0   \n",
       "25%   33  0           72.00 0       0     103.0    1        -1     0.0   \n",
       "50%   39  0          448.00 1       0     180.0    2        -1     0.0   \n",
       "75%   48  0         1428.00 1       0     319.0    3        -1     0.0   \n",
       "90%   56  0         3574.00 1       1     548.0    5       185     2.0   \n",
       "95%   59  0         5768.00 1       1     751.0    8       317     3.0   \n",
       "99%   71  1        13164.90 1       1    1269.0   16       370     8.9   \n",
       "99.5% 77  1        18014.35 1       1    1501.9   21       410    12.0   \n",
       "100%  95  1       102127.00 1       1    4918.0   63       871   275.0   "
      ]
     },
     "metadata": {},
     "output_type": "display_data"
    }
   ],
   "source": [
    "## Lets check if any outliers present by checking the percentiles till 99.5%\n",
    "quants <- c(0,0.25,0.50,0.75,0.90,0.95,0.99,0.995,1)\n",
    "apply( deposit[1:9] , 2 , quantile , probs = quants , na.rm = TRUE )"
   ]
  },
  {
   "cell_type": "markdown",
   "metadata": {},
   "source": [
    "From above summary we cleary see that there are some outliers. So let's remove them."
   ]
  },
  {
   "cell_type": "code",
   "execution_count": 8,
   "metadata": {},
   "outputs": [],
   "source": [
    "#Removing data from below columns above 99%\n",
    "temp1 = deposit[deposit$balance < quantile(deposit$balance, 0.99), ]\n",
    "temp2 = temp1[temp1$duration < quantile(temp1$duration, 0.99), ]\n",
    "temp3 = temp2[temp2$campaign < quantile(temp2$campaign, 0.99), ]\n",
    "temp4 = temp3[temp3$pdays < quantile(temp3$pdays, 0.99), ]\n",
    "trm_dep = temp4[temp4$previous < quantile(temp4$previous, 0.99), ]\n"
   ]
  },
  {
   "cell_type": "code",
   "execution_count": 9,
   "metadata": {},
   "outputs": [
    {
     "data": {
      "text/plain": [
       "      age           default           balance         housing      \n",
       " Min.   :18.00   Min.   :0.00000   Min.   :-8019   Min.   :0.0000  \n",
       " 1st Qu.:33.00   1st Qu.:0.00000   1st Qu.:   69   1st Qu.:0.0000  \n",
       " Median :39.00   Median :0.00000   Median :  436   Median :1.0000  \n",
       " Mean   :40.91   Mean   :0.01824   Mean   : 1150   Mean   :0.5555  \n",
       " 3rd Qu.:48.00   3rd Qu.:0.00000   3rd Qu.: 1375   3rd Qu.:1.0000  \n",
       " Max.   :95.00   Max.   :1.00000   Max.   :13164   Max.   :1.0000  \n",
       "      loan           duration         campaign          pdays       \n",
       " Min.   :0.0000   Min.   :   0.0   Min.   : 1.000   Min.   : -1.00  \n",
       " 1st Qu.:0.0000   1st Qu.: 104.0   1st Qu.: 1.000   1st Qu.: -1.00  \n",
       " Median :0.0000   Median : 179.0   Median : 2.000   Median : -1.00  \n",
       " Mean   :0.1618   Mean   : 245.6   Mean   : 2.534   Mean   : 34.18  \n",
       " 3rd Qu.:0.0000   3rd Qu.: 314.0   3rd Qu.: 3.000   3rd Qu.: -1.00  \n",
       " Max.   :1.0000   Max.   :1266.0   Max.   :15.000   Max.   :369.00  \n",
       "    previous       poutfailure        poutother        poutsuccess     \n",
       " Min.   :0.0000   Min.   :0.00000   Min.   :0.00000   Min.   :0.00000  \n",
       " 1st Qu.:0.0000   1st Qu.:0.00000   1st Qu.:0.00000   1st Qu.:0.00000  \n",
       " Median :0.0000   Median :0.00000   Median :0.00000   Median :0.00000  \n",
       " Mean   :0.4058   Mean   :0.09997   Mean   :0.03496   Mean   :0.03087  \n",
       " 3rd Qu.:0.0000   3rd Qu.:0.00000   3rd Qu.:0.00000   3rd Qu.:0.00000  \n",
       " Max.   :7.0000   Max.   :1.00000   Max.   :1.00000   Max.   :1.00000  \n",
       "  poutunknown      con_cellular    con_telephone      con_unknown   \n",
       " Min.   :0.0000   Min.   :0.0000   Min.   :0.00000   Min.   :0.000  \n",
       " 1st Qu.:1.0000   1st Qu.:0.0000   1st Qu.:0.00000   1st Qu.:0.000  \n",
       " Median :1.0000   Median :1.0000   Median :0.00000   Median :0.000  \n",
       " Mean   :0.8342   Mean   :0.6438   Mean   :0.06225   Mean   :0.294  \n",
       " 3rd Qu.:1.0000   3rd Qu.:1.0000   3rd Qu.:0.00000   3rd Qu.:1.000  \n",
       " Max.   :1.0000   Max.   :1.0000   Max.   :1.00000   Max.   :1.000  \n",
       "    divorced         married           single          joadmin.     \n",
       " Min.   :0.0000   Min.   :0.0000   Min.   :0.0000   Min.   :0.0000  \n",
       " 1st Qu.:0.0000   1st Qu.:0.0000   1st Qu.:0.0000   1st Qu.:0.0000  \n",
       " Median :0.0000   Median :1.0000   Median :0.0000   Median :0.0000  \n",
       " Mean   :0.1151   Mean   :0.6032   Mean   :0.2817   Mean   :0.1147  \n",
       " 3rd Qu.:0.0000   3rd Qu.:1.0000   3rd Qu.:1.0000   3rd Qu.:0.0000  \n",
       " Max.   :1.0000   Max.   :1.0000   Max.   :1.0000   Max.   :1.0000  \n",
       " joblue.collar    joentrepreneur     johousemaid       jomanagement   \n",
       " Min.   :0.0000   Min.   :0.00000   Min.   :0.00000   Min.   :0.0000  \n",
       " 1st Qu.:0.0000   1st Qu.:0.00000   1st Qu.:0.00000   1st Qu.:0.0000  \n",
       " Median :0.0000   Median :0.00000   Median :0.00000   Median :0.0000  \n",
       " Mean   :0.2168   Mean   :0.03302   Mean   :0.02781   Mean   :0.2063  \n",
       " 3rd Qu.:0.0000   3rd Qu.:0.00000   3rd Qu.:0.00000   3rd Qu.:0.0000  \n",
       " Max.   :1.0000   Max.   :1.00000   Max.   :1.00000   Max.   :1.0000  \n",
       "   joretired       joself.employed     joservices        jostudent      \n",
       " Min.   :0.00000   Min.   :0.00000   Min.   :0.00000   Min.   :0.00000  \n",
       " 1st Qu.:0.00000   1st Qu.:0.00000   1st Qu.:0.00000   1st Qu.:0.00000  \n",
       " Median :0.00000   Median :0.00000   Median :0.00000   Median :0.00000  \n",
       " Mean   :0.05005   Mean   :0.03466   Mean   :0.09294   Mean   :0.02063  \n",
       " 3rd Qu.:0.00000   3rd Qu.:0.00000   3rd Qu.:0.00000   3rd Qu.:0.00000  \n",
       " Max.   :1.00000   Max.   :1.00000   Max.   :1.00000   Max.   :1.00000  \n",
       "  jotechnician    jounemployed       jounknown              y         \n",
       " Min.   :0.000   Min.   :0.00000   Min.   :0.000000   Min.   :0.0000  \n",
       " 1st Qu.:0.000   1st Qu.:0.00000   1st Qu.:0.000000   1st Qu.:0.0000  \n",
       " Median :0.000   Median :0.00000   Median :0.000000   Median :0.0000  \n",
       " Mean   :0.168   Mean   :0.02874   Mean   :0.006408   Mean   :0.1086  \n",
       " 3rd Qu.:0.000   3rd Qu.:0.00000   3rd Qu.:0.000000   3rd Qu.:0.0000  \n",
       " Max.   :1.000   Max.   :1.00000   Max.   :1.000000   Max.   :1.0000  "
      ]
     },
     "metadata": {},
     "output_type": "display_data"
    }
   ],
   "source": [
    "summary(trm_dep)"
   ]
  },
  {
   "cell_type": "markdown",
   "metadata": {},
   "source": [
    "### Checking collinearity"
   ]
  },
  {
   "cell_type": "code",
   "execution_count": 10,
   "metadata": {},
   "outputs": [
    {
     "data": {
      "text/html": [
       "<table>\n",
       "<thead><tr><th></th><th scope=col>age</th><th scope=col>default</th><th scope=col>balance</th><th scope=col>housing</th><th scope=col>loan</th><th scope=col>duration</th><th scope=col>campaign</th><th scope=col>pdays</th><th scope=col>previous</th><th scope=col>poutfailure</th><th scope=col>...</th><th scope=col>johousemaid</th><th scope=col>jomanagement</th><th scope=col>joretired</th><th scope=col>joself.employed</th><th scope=col>joservices</th><th scope=col>jostudent</th><th scope=col>jotechnician</th><th scope=col>jounemployed</th><th scope=col>jounknown</th><th scope=col>y</th></tr></thead>\n",
       "<tbody>\n",
       "\t<tr><th scope=row>age</th><td> 1.00</td><td>-0.02</td><td> 0.10</td><td>-0.18</td><td>-0.01</td><td>-0.01</td><td> 0.02</td><td>-0.03</td><td> 0.01</td><td>-0.01</td><td>...  </td><td> 0.09</td><td>-0.02</td><td> 0.45</td><td>-0.01</td><td>-0.07</td><td>-0.20</td><td>-0.07</td><td> 0.00</td><td> 0.05</td><td> 0.02</td></tr>\n",
       "\t<tr><th scope=row>default</th><td>-0.02</td><td> 1.00</td><td>-0.09</td><td>-0.01</td><td> 0.08</td><td> 0.00</td><td> 0.01</td><td>-0.03</td><td>-0.03</td><td>-0.03</td><td>...  </td><td> 0.00</td><td> 0.00</td><td>-0.01</td><td> 0.01</td><td> 0.00</td><td>-0.02</td><td>-0.01</td><td> 0.01</td><td>-0.01</td><td>-0.02</td></tr>\n",
       "\t<tr><th scope=row>balance</th><td> 0.10</td><td>-0.09</td><td> 1.00</td><td>-0.07</td><td>-0.10</td><td> 0.03</td><td>-0.02</td><td> 0.01</td><td> 0.04</td><td> 0.03</td><td>...  </td><td> 0.00</td><td> 0.06</td><td> 0.05</td><td> 0.02</td><td>-0.04</td><td> 0.01</td><td>-0.01</td><td> 0.01</td><td> 0.01</td><td> 0.08</td></tr>\n",
       "\t<tr><th scope=row>housing</th><td>-0.18</td><td>-0.01</td><td>-0.07</td><td> 1.00</td><td> 0.04</td><td> 0.01</td><td>-0.04</td><td> 0.13</td><td> 0.04</td><td> 0.11</td><td>...  </td><td>-0.08</td><td>-0.06</td><td>-0.15</td><td>-0.03</td><td> 0.07</td><td>-0.09</td><td>-0.01</td><td>-0.05</td><td>-0.08</td><td>-0.15</td></tr>\n",
       "\t<tr><th scope=row>loan</th><td>-0.01</td><td> 0.08</td><td>-0.10</td><td> 0.04</td><td> 1.00</td><td>-0.01</td><td> 0.00</td><td>-0.02</td><td>-0.02</td><td> 0.00</td><td>...  </td><td>-0.02</td><td>-0.04</td><td>-0.01</td><td>-0.01</td><td> 0.03</td><td>-0.06</td><td> 0.01</td><td>-0.04</td><td>-0.03</td><td>-0.07</td></tr>\n",
       "\t<tr><th scope=row>duration</th><td>-0.01</td><td> 0.00</td><td> 0.03</td><td> 0.01</td><td>-0.01</td><td> 1.00</td><td>-0.08</td><td> 0.00</td><td> 0.01</td><td>-0.02</td><td>...  </td><td>-0.01</td><td>-0.01</td><td> 0.03</td><td> 0.00</td><td> 0.00</td><td>-0.01</td><td>-0.01</td><td> 0.02</td><td>-0.01</td><td> 0.39</td></tr>\n",
       "\t<tr><th scope=row>campaign</th><td> 0.02</td><td> 0.01</td><td>-0.02</td><td>-0.04</td><td> 0.00</td><td>-0.08</td><td> 1.00</td><td>-0.09</td><td>-0.07</td><td>-0.09</td><td>...  </td><td> 0.01</td><td> 0.02</td><td>-0.03</td><td> 0.01</td><td> 0.00</td><td>-0.03</td><td> 0.02</td><td>-0.02</td><td> 0.02</td><td>-0.08</td></tr>\n",
       "\t<tr><th scope=row>pdays</th><td>-0.03</td><td>-0.03</td><td> 0.01</td><td> 0.13</td><td>-0.02</td><td> 0.00</td><td>-0.09</td><td> 1.00</td><td> 0.70</td><td> 0.73</td><td>...  </td><td>-0.03</td><td>-0.02</td><td> 0.00</td><td>-0.01</td><td> 0.01</td><td> 0.02</td><td>-0.01</td><td>-0.01</td><td>-0.02</td><td> 0.08</td></tr>\n",
       "\t<tr><th scope=row>previous</th><td> 0.01</td><td>-0.03</td><td> 0.04</td><td> 0.04</td><td>-0.02</td><td> 0.01</td><td>-0.07</td><td> 0.70</td><td> 1.00</td><td> 0.59</td><td>...  </td><td>-0.02</td><td> 0.01</td><td> 0.02</td><td> 0.00</td><td>-0.01</td><td> 0.04</td><td> 0.00</td><td>-0.01</td><td>-0.01</td><td> 0.15</td></tr>\n",
       "\t<tr><th scope=row>poutfailure</th><td>-0.01</td><td>-0.03</td><td> 0.03</td><td> 0.11</td><td> 0.00</td><td>-0.02</td><td>-0.09</td><td> 0.73</td><td> 0.59</td><td> 1.00</td><td>...  </td><td>-0.02</td><td> 0.00</td><td> 0.00</td><td> 0.00</td><td> 0.00</td><td> 0.01</td><td> 0.00</td><td>-0.01</td><td>-0.01</td><td> 0.00</td></tr>\n",
       "\t<tr><th scope=row>poutother</th><td>-0.02</td><td>-0.02</td><td> 0.01</td><td> 0.04</td><td>-0.01</td><td> 0.01</td><td>-0.02</td><td> 0.39</td><td> 0.36</td><td>-0.06</td><td>...  </td><td>-0.01</td><td> 0.00</td><td> 0.00</td><td>-0.01</td><td> 0.00</td><td> 0.03</td><td> 0.00</td><td>-0.01</td><td>-0.01</td><td> 0.03</td></tr>\n",
       "\t<tr><th scope=row>poutsuccess</th><td> 0.03</td><td>-0.02</td><td> 0.05</td><td>-0.09</td><td>-0.05</td><td> 0.05</td><td>-0.06</td><td> 0.23</td><td> 0.35</td><td>-0.06</td><td>...  </td><td>-0.01</td><td> 0.02</td><td> 0.06</td><td> 0.00</td><td>-0.02</td><td> 0.05</td><td> 0.00</td><td> 0.01</td><td> 0.00</td><td> 0.31</td></tr>\n",
       "\t<tr><th scope=row>poutunknown</th><td> 0.00</td><td> 0.04</td><td>-0.05</td><td>-0.06</td><td> 0.03</td><td>-0.01</td><td> 0.11</td><td>-0.89</td><td>-0.82</td><td>-0.75</td><td>...  </td><td> 0.02</td><td>-0.01</td><td>-0.02</td><td> 0.00</td><td> 0.01</td><td>-0.04</td><td> 0.01</td><td> 0.01</td><td> 0.01</td><td>-0.16</td></tr>\n",
       "\t<tr><th scope=row>con_cellular</th><td>-0.07</td><td>-0.01</td><td> 0.02</td><td>-0.16</td><td> 0.01</td><td> 0.04</td><td>-0.02</td><td> 0.24</td><td> 0.21</td><td> 0.20</td><td>...  </td><td>-0.01</td><td> 0.10</td><td>-0.02</td><td> 0.02</td><td>-0.03</td><td> 0.03</td><td> 0.06</td><td> 0.01</td><td>-0.03</td><td> 0.14</td></tr>\n",
       "\t<tr><th scope=row>con_telephone</th><td> 0.17</td><td>-0.02</td><td> 0.04</td><td>-0.08</td><td>-0.01</td><td>-0.04</td><td> 0.06</td><td> 0.01</td><td> 0.02</td><td> 0.00</td><td>...  </td><td> 0.04</td><td>-0.03</td><td> 0.10</td><td> 0.00</td><td>-0.01</td><td> 0.03</td><td>-0.04</td><td> 0.01</td><td> 0.03</td><td> 0.01</td></tr>\n",
       "\t<tr><th scope=row>con_unknown</th><td>-0.02</td><td> 0.02</td><td>-0.04</td><td> 0.21</td><td>-0.01</td><td>-0.02</td><td>-0.01</td><td>-0.25</td><td>-0.23</td><td>-0.21</td><td>...  </td><td>-0.01</td><td>-0.09</td><td>-0.04</td><td>-0.02</td><td> 0.04</td><td>-0.04</td><td>-0.04</td><td>-0.02</td><td> 0.02</td><td>-0.15</td></tr>\n",
       "\t<tr><th scope=row>divorced</th><td> 0.17</td><td> 0.02</td><td>-0.03</td><td> 0.00</td><td> 0.01</td><td> 0.00</td><td>-0.01</td><td> 0.00</td><td>-0.01</td><td> 0.00</td><td>...  </td><td> 0.02</td><td> 0.00</td><td> 0.05</td><td>-0.02</td><td> 0.02</td><td>-0.05</td><td> 0.01</td><td> 0.01</td><td>-0.01</td><td> 0.00</td></tr>\n",
       "\t<tr><th scope=row>married</th><td> 0.29</td><td>-0.01</td><td> 0.03</td><td> 0.02</td><td> 0.04</td><td>-0.02</td><td> 0.04</td><td>-0.02</td><td>-0.01</td><td> 0.00</td><td>...  </td><td> 0.05</td><td>-0.03</td><td> 0.08</td><td> 0.01</td><td>-0.01</td><td>-0.16</td><td>-0.06</td><td>-0.02</td><td> 0.02</td><td>-0.06</td></tr>\n",
       "\t<tr><th scope=row>single</th><td>-0.43</td><td> 0.00</td><td>-0.01</td><td>-0.02</td><td>-0.05</td><td> 0.02</td><td>-0.03</td><td> 0.02</td><td> 0.02</td><td> 0.00</td><td>...  </td><td>-0.06</td><td> 0.03</td><td>-0.12</td><td> 0.00</td><td> 0.00</td><td> 0.21</td><td> 0.06</td><td> 0.01</td><td>-0.01</td><td> 0.06</td></tr>\n",
       "\t<tr><th scope=row>joadmin.</th><td>-0.06</td><td>-0.01</td><td>-0.03</td><td> 0.04</td><td> 0.03</td><td>-0.02</td><td>-0.02</td><td> 0.03</td><td> 0.02</td><td> 0.02</td><td>...  </td><td>-0.06</td><td>-0.18</td><td>-0.08</td><td>-0.07</td><td>-0.12</td><td>-0.05</td><td>-0.16</td><td>-0.06</td><td>-0.03</td><td> 0.00</td></tr>\n",
       "\t<tr><th scope=row>joblue.collar</th><td>-0.04</td><td> 0.01</td><td>-0.04</td><td> 0.18</td><td> 0.02</td><td> 0.02</td><td> 0.00</td><td> 0.03</td><td>-0.02</td><td> 0.00</td><td>...  </td><td>-0.09</td><td>-0.27</td><td>-0.12</td><td>-0.10</td><td>-0.17</td><td>-0.08</td><td>-0.24</td><td>-0.09</td><td>-0.04</td><td>-0.07</td></tr>\n",
       "\t<tr><th scope=row>joentrepreneur</th><td> 0.02</td><td> 0.03</td><td>-0.01</td><td> 0.01</td><td> 0.04</td><td> 0.00</td><td> 0.01</td><td>-0.01</td><td>-0.01</td><td> 0.00</td><td>...  </td><td>-0.03</td><td>-0.09</td><td>-0.04</td><td>-0.04</td><td>-0.06</td><td>-0.03</td><td>-0.08</td><td>-0.03</td><td>-0.01</td><td>-0.02</td></tr>\n",
       "\t<tr><th scope=row>johousemaid</th><td> 0.09</td><td> 0.00</td><td> 0.00</td><td>-0.08</td><td>-0.02</td><td>-0.01</td><td> 0.01</td><td>-0.03</td><td>-0.02</td><td>-0.02</td><td>...  </td><td> 1.00</td><td>-0.09</td><td>-0.04</td><td>-0.03</td><td>-0.05</td><td>-0.02</td><td>-0.08</td><td>-0.03</td><td>-0.01</td><td>-0.01</td></tr>\n",
       "\t<tr><th scope=row>jomanagement</th><td>-0.02</td><td> 0.00</td><td> 0.06</td><td>-0.06</td><td>-0.04</td><td>-0.01</td><td> 0.02</td><td>-0.02</td><td> 0.01</td><td> 0.00</td><td>...  </td><td>-0.09</td><td> 1.00</td><td>-0.12</td><td>-0.10</td><td>-0.16</td><td>-0.07</td><td>-0.23</td><td>-0.09</td><td>-0.04</td><td> 0.03</td></tr>\n",
       "\t<tr><th scope=row>joretired</th><td> 0.45</td><td>-0.01</td><td> 0.05</td><td>-0.15</td><td>-0.01</td><td> 0.03</td><td>-0.03</td><td> 0.00</td><td> 0.02</td><td> 0.00</td><td>...  </td><td>-0.04</td><td>-0.12</td><td> 1.00</td><td>-0.04</td><td>-0.07</td><td>-0.03</td><td>-0.10</td><td>-0.04</td><td>-0.02</td><td> 0.08</td></tr>\n",
       "\t<tr><th scope=row>joself.employed</th><td>-0.01</td><td> 0.01</td><td> 0.02</td><td>-0.03</td><td>-0.01</td><td> 0.00</td><td> 0.01</td><td>-0.01</td><td> 0.00</td><td> 0.00</td><td>...  </td><td>-0.03</td><td>-0.10</td><td>-0.04</td><td> 1.00</td><td>-0.06</td><td>-0.03</td><td>-0.09</td><td>-0.03</td><td>-0.02</td><td> 0.00</td></tr>\n",
       "\t<tr><th scope=row>joservices</th><td>-0.07</td><td> 0.00</td><td>-0.04</td><td> 0.07</td><td> 0.03</td><td> 0.00</td><td> 0.00</td><td> 0.01</td><td>-0.01</td><td> 0.00</td><td>...  </td><td>-0.05</td><td>-0.16</td><td>-0.07</td><td>-0.06</td><td> 1.00</td><td>-0.05</td><td>-0.14</td><td>-0.06</td><td>-0.03</td><td>-0.03</td></tr>\n",
       "\t<tr><th scope=row>jostudent</th><td>-0.20</td><td>-0.02</td><td> 0.01</td><td>-0.09</td><td>-0.06</td><td>-0.01</td><td>-0.03</td><td> 0.02</td><td> 0.04</td><td> 0.01</td><td>...  </td><td>-0.02</td><td>-0.07</td><td>-0.03</td><td>-0.03</td><td>-0.05</td><td> 1.00</td><td>-0.07</td><td>-0.02</td><td>-0.01</td><td> 0.08</td></tr>\n",
       "\t<tr><th scope=row>jotechnician</th><td>-0.07</td><td>-0.01</td><td>-0.01</td><td>-0.01</td><td> 0.01</td><td>-0.01</td><td> 0.02</td><td>-0.01</td><td> 0.00</td><td> 0.00</td><td>...  </td><td>-0.08</td><td>-0.23</td><td>-0.10</td><td>-0.09</td><td>-0.14</td><td>-0.07</td><td> 1.00</td><td>-0.08</td><td>-0.04</td><td>-0.01</td></tr>\n",
       "\t<tr><th scope=row>jounemployed</th><td> 0.00</td><td> 0.01</td><td> 0.01</td><td>-0.05</td><td>-0.04</td><td> 0.02</td><td>-0.02</td><td>-0.01</td><td>-0.01</td><td>-0.01</td><td>...  </td><td>-0.03</td><td>-0.09</td><td>-0.04</td><td>-0.03</td><td>-0.06</td><td>-0.02</td><td>-0.08</td><td> 1.00</td><td>-0.01</td><td> 0.02</td></tr>\n",
       "\t<tr><th scope=row>jounknown</th><td> 0.05</td><td>-0.01</td><td> 0.01</td><td>-0.08</td><td>-0.03</td><td>-0.01</td><td> 0.02</td><td>-0.02</td><td>-0.01</td><td>-0.01</td><td>...  </td><td>-0.01</td><td>-0.04</td><td>-0.02</td><td>-0.02</td><td>-0.03</td><td>-0.01</td><td>-0.04</td><td>-0.01</td><td> 1.00</td><td> 0.00</td></tr>\n",
       "\t<tr><th scope=row>y</th><td> 0.02</td><td>-0.02</td><td> 0.08</td><td>-0.15</td><td>-0.07</td><td> 0.39</td><td>-0.08</td><td> 0.08</td><td> 0.15</td><td> 0.00</td><td>...  </td><td>-0.01</td><td> 0.03</td><td> 0.08</td><td> 0.00</td><td>-0.03</td><td> 0.08</td><td>-0.01</td><td> 0.02</td><td> 0.00</td><td> 1.00</td></tr>\n",
       "</tbody>\n",
       "</table>\n"
      ],
      "text/latex": [
       "\\begin{tabular}{r|llllllllllllllllllllllllllllllll}\n",
       "  & age & default & balance & housing & loan & duration & campaign & pdays & previous & poutfailure & ... & johousemaid & jomanagement & joretired & joself.employed & joservices & jostudent & jotechnician & jounemployed & jounknown & y\\\\\n",
       "\\hline\n",
       "\tage &  1.00 & -0.02 &  0.10 & -0.18 & -0.01 & -0.01 &  0.02 & -0.03 &  0.01 & -0.01 & ...   &  0.09 & -0.02 &  0.45 & -0.01 & -0.07 & -0.20 & -0.07 &  0.00 &  0.05 &  0.02\\\\\n",
       "\tdefault & -0.02 &  1.00 & -0.09 & -0.01 &  0.08 &  0.00 &  0.01 & -0.03 & -0.03 & -0.03 & ...   &  0.00 &  0.00 & -0.01 &  0.01 &  0.00 & -0.02 & -0.01 &  0.01 & -0.01 & -0.02\\\\\n",
       "\tbalance &  0.10 & -0.09 &  1.00 & -0.07 & -0.10 &  0.03 & -0.02 &  0.01 &  0.04 &  0.03 & ...   &  0.00 &  0.06 &  0.05 &  0.02 & -0.04 &  0.01 & -0.01 &  0.01 &  0.01 &  0.08\\\\\n",
       "\thousing & -0.18 & -0.01 & -0.07 &  1.00 &  0.04 &  0.01 & -0.04 &  0.13 &  0.04 &  0.11 & ...   & -0.08 & -0.06 & -0.15 & -0.03 &  0.07 & -0.09 & -0.01 & -0.05 & -0.08 & -0.15\\\\\n",
       "\tloan & -0.01 &  0.08 & -0.10 &  0.04 &  1.00 & -0.01 &  0.00 & -0.02 & -0.02 &  0.00 & ...   & -0.02 & -0.04 & -0.01 & -0.01 &  0.03 & -0.06 &  0.01 & -0.04 & -0.03 & -0.07\\\\\n",
       "\tduration & -0.01 &  0.00 &  0.03 &  0.01 & -0.01 &  1.00 & -0.08 &  0.00 &  0.01 & -0.02 & ...   & -0.01 & -0.01 &  0.03 &  0.00 &  0.00 & -0.01 & -0.01 &  0.02 & -0.01 &  0.39\\\\\n",
       "\tcampaign &  0.02 &  0.01 & -0.02 & -0.04 &  0.00 & -0.08 &  1.00 & -0.09 & -0.07 & -0.09 & ...   &  0.01 &  0.02 & -0.03 &  0.01 &  0.00 & -0.03 &  0.02 & -0.02 &  0.02 & -0.08\\\\\n",
       "\tpdays & -0.03 & -0.03 &  0.01 &  0.13 & -0.02 &  0.00 & -0.09 &  1.00 &  0.70 &  0.73 & ...   & -0.03 & -0.02 &  0.00 & -0.01 &  0.01 &  0.02 & -0.01 & -0.01 & -0.02 &  0.08\\\\\n",
       "\tprevious &  0.01 & -0.03 &  0.04 &  0.04 & -0.02 &  0.01 & -0.07 &  0.70 &  1.00 &  0.59 & ...   & -0.02 &  0.01 &  0.02 &  0.00 & -0.01 &  0.04 &  0.00 & -0.01 & -0.01 &  0.15\\\\\n",
       "\tpoutfailure & -0.01 & -0.03 &  0.03 &  0.11 &  0.00 & -0.02 & -0.09 &  0.73 &  0.59 &  1.00 & ...   & -0.02 &  0.00 &  0.00 &  0.00 &  0.00 &  0.01 &  0.00 & -0.01 & -0.01 &  0.00\\\\\n",
       "\tpoutother & -0.02 & -0.02 &  0.01 &  0.04 & -0.01 &  0.01 & -0.02 &  0.39 &  0.36 & -0.06 & ...   & -0.01 &  0.00 &  0.00 & -0.01 &  0.00 &  0.03 &  0.00 & -0.01 & -0.01 &  0.03\\\\\n",
       "\tpoutsuccess &  0.03 & -0.02 &  0.05 & -0.09 & -0.05 &  0.05 & -0.06 &  0.23 &  0.35 & -0.06 & ...   & -0.01 &  0.02 &  0.06 &  0.00 & -0.02 &  0.05 &  0.00 &  0.01 &  0.00 &  0.31\\\\\n",
       "\tpoutunknown &  0.00 &  0.04 & -0.05 & -0.06 &  0.03 & -0.01 &  0.11 & -0.89 & -0.82 & -0.75 & ...   &  0.02 & -0.01 & -0.02 &  0.00 &  0.01 & -0.04 &  0.01 &  0.01 &  0.01 & -0.16\\\\\n",
       "\tcon\\_cellular & -0.07 & -0.01 &  0.02 & -0.16 &  0.01 &  0.04 & -0.02 &  0.24 &  0.21 &  0.20 & ...   & -0.01 &  0.10 & -0.02 &  0.02 & -0.03 &  0.03 &  0.06 &  0.01 & -0.03 &  0.14\\\\\n",
       "\tcon\\_telephone &  0.17 & -0.02 &  0.04 & -0.08 & -0.01 & -0.04 &  0.06 &  0.01 &  0.02 &  0.00 & ...   &  0.04 & -0.03 &  0.10 &  0.00 & -0.01 &  0.03 & -0.04 &  0.01 &  0.03 &  0.01\\\\\n",
       "\tcon\\_unknown & -0.02 &  0.02 & -0.04 &  0.21 & -0.01 & -0.02 & -0.01 & -0.25 & -0.23 & -0.21 & ...   & -0.01 & -0.09 & -0.04 & -0.02 &  0.04 & -0.04 & -0.04 & -0.02 &  0.02 & -0.15\\\\\n",
       "\tdivorced &  0.17 &  0.02 & -0.03 &  0.00 &  0.01 &  0.00 & -0.01 &  0.00 & -0.01 &  0.00 & ...   &  0.02 &  0.00 &  0.05 & -0.02 &  0.02 & -0.05 &  0.01 &  0.01 & -0.01 &  0.00\\\\\n",
       "\tmarried &  0.29 & -0.01 &  0.03 &  0.02 &  0.04 & -0.02 &  0.04 & -0.02 & -0.01 &  0.00 & ...   &  0.05 & -0.03 &  0.08 &  0.01 & -0.01 & -0.16 & -0.06 & -0.02 &  0.02 & -0.06\\\\\n",
       "\tsingle & -0.43 &  0.00 & -0.01 & -0.02 & -0.05 &  0.02 & -0.03 &  0.02 &  0.02 &  0.00 & ...   & -0.06 &  0.03 & -0.12 &  0.00 &  0.00 &  0.21 &  0.06 &  0.01 & -0.01 &  0.06\\\\\n",
       "\tjoadmin. & -0.06 & -0.01 & -0.03 &  0.04 &  0.03 & -0.02 & -0.02 &  0.03 &  0.02 &  0.02 & ...   & -0.06 & -0.18 & -0.08 & -0.07 & -0.12 & -0.05 & -0.16 & -0.06 & -0.03 &  0.00\\\\\n",
       "\tjoblue.collar & -0.04 &  0.01 & -0.04 &  0.18 &  0.02 &  0.02 &  0.00 &  0.03 & -0.02 &  0.00 & ...   & -0.09 & -0.27 & -0.12 & -0.10 & -0.17 & -0.08 & -0.24 & -0.09 & -0.04 & -0.07\\\\\n",
       "\tjoentrepreneur &  0.02 &  0.03 & -0.01 &  0.01 &  0.04 &  0.00 &  0.01 & -0.01 & -0.01 &  0.00 & ...   & -0.03 & -0.09 & -0.04 & -0.04 & -0.06 & -0.03 & -0.08 & -0.03 & -0.01 & -0.02\\\\\n",
       "\tjohousemaid &  0.09 &  0.00 &  0.00 & -0.08 & -0.02 & -0.01 &  0.01 & -0.03 & -0.02 & -0.02 & ...   &  1.00 & -0.09 & -0.04 & -0.03 & -0.05 & -0.02 & -0.08 & -0.03 & -0.01 & -0.01\\\\\n",
       "\tjomanagement & -0.02 &  0.00 &  0.06 & -0.06 & -0.04 & -0.01 &  0.02 & -0.02 &  0.01 &  0.00 & ...   & -0.09 &  1.00 & -0.12 & -0.10 & -0.16 & -0.07 & -0.23 & -0.09 & -0.04 &  0.03\\\\\n",
       "\tjoretired &  0.45 & -0.01 &  0.05 & -0.15 & -0.01 &  0.03 & -0.03 &  0.00 &  0.02 &  0.00 & ...   & -0.04 & -0.12 &  1.00 & -0.04 & -0.07 & -0.03 & -0.10 & -0.04 & -0.02 &  0.08\\\\\n",
       "\tjoself.employed & -0.01 &  0.01 &  0.02 & -0.03 & -0.01 &  0.00 &  0.01 & -0.01 &  0.00 &  0.00 & ...   & -0.03 & -0.10 & -0.04 &  1.00 & -0.06 & -0.03 & -0.09 & -0.03 & -0.02 &  0.00\\\\\n",
       "\tjoservices & -0.07 &  0.00 & -0.04 &  0.07 &  0.03 &  0.00 &  0.00 &  0.01 & -0.01 &  0.00 & ...   & -0.05 & -0.16 & -0.07 & -0.06 &  1.00 & -0.05 & -0.14 & -0.06 & -0.03 & -0.03\\\\\n",
       "\tjostudent & -0.20 & -0.02 &  0.01 & -0.09 & -0.06 & -0.01 & -0.03 &  0.02 &  0.04 &  0.01 & ...   & -0.02 & -0.07 & -0.03 & -0.03 & -0.05 &  1.00 & -0.07 & -0.02 & -0.01 &  0.08\\\\\n",
       "\tjotechnician & -0.07 & -0.01 & -0.01 & -0.01 &  0.01 & -0.01 &  0.02 & -0.01 &  0.00 &  0.00 & ...   & -0.08 & -0.23 & -0.10 & -0.09 & -0.14 & -0.07 &  1.00 & -0.08 & -0.04 & -0.01\\\\\n",
       "\tjounemployed &  0.00 &  0.01 &  0.01 & -0.05 & -0.04 &  0.02 & -0.02 & -0.01 & -0.01 & -0.01 & ...   & -0.03 & -0.09 & -0.04 & -0.03 & -0.06 & -0.02 & -0.08 &  1.00 & -0.01 &  0.02\\\\\n",
       "\tjounknown &  0.05 & -0.01 &  0.01 & -0.08 & -0.03 & -0.01 &  0.02 & -0.02 & -0.01 & -0.01 & ...   & -0.01 & -0.04 & -0.02 & -0.02 & -0.03 & -0.01 & -0.04 & -0.01 &  1.00 &  0.00\\\\\n",
       "\ty &  0.02 & -0.02 &  0.08 & -0.15 & -0.07 &  0.39 & -0.08 &  0.08 &  0.15 &  0.00 & ...   & -0.01 &  0.03 &  0.08 &  0.00 & -0.03 &  0.08 & -0.01 &  0.02 &  0.00 &  1.00\\\\\n",
       "\\end{tabular}\n"
      ],
      "text/markdown": [
       "\n",
       "| <!--/--> | age | default | balance | housing | loan | duration | campaign | pdays | previous | poutfailure | ... | johousemaid | jomanagement | joretired | joself.employed | joservices | jostudent | jotechnician | jounemployed | jounknown | y |\n",
       "|---|---|---|---|---|---|---|---|---|---|---|---|---|---|---|---|---|---|---|---|---|---|\n",
       "| age |  1.00 | -0.02 |  0.10 | -0.18 | -0.01 | -0.01 |  0.02 | -0.03 |  0.01 | -0.01 | ...   |  0.09 | -0.02 |  0.45 | -0.01 | -0.07 | -0.20 | -0.07 |  0.00 |  0.05 |  0.02 |\n",
       "| default | -0.02 |  1.00 | -0.09 | -0.01 |  0.08 |  0.00 |  0.01 | -0.03 | -0.03 | -0.03 | ...   |  0.00 |  0.00 | -0.01 |  0.01 |  0.00 | -0.02 | -0.01 |  0.01 | -0.01 | -0.02 |\n",
       "| balance |  0.10 | -0.09 |  1.00 | -0.07 | -0.10 |  0.03 | -0.02 |  0.01 |  0.04 |  0.03 | ...   |  0.00 |  0.06 |  0.05 |  0.02 | -0.04 |  0.01 | -0.01 |  0.01 |  0.01 |  0.08 |\n",
       "| housing | -0.18 | -0.01 | -0.07 |  1.00 |  0.04 |  0.01 | -0.04 |  0.13 |  0.04 |  0.11 | ...   | -0.08 | -0.06 | -0.15 | -0.03 |  0.07 | -0.09 | -0.01 | -0.05 | -0.08 | -0.15 |\n",
       "| loan | -0.01 |  0.08 | -0.10 |  0.04 |  1.00 | -0.01 |  0.00 | -0.02 | -0.02 |  0.00 | ...   | -0.02 | -0.04 | -0.01 | -0.01 |  0.03 | -0.06 |  0.01 | -0.04 | -0.03 | -0.07 |\n",
       "| duration | -0.01 |  0.00 |  0.03 |  0.01 | -0.01 |  1.00 | -0.08 |  0.00 |  0.01 | -0.02 | ...   | -0.01 | -0.01 |  0.03 |  0.00 |  0.00 | -0.01 | -0.01 |  0.02 | -0.01 |  0.39 |\n",
       "| campaign |  0.02 |  0.01 | -0.02 | -0.04 |  0.00 | -0.08 |  1.00 | -0.09 | -0.07 | -0.09 | ...   |  0.01 |  0.02 | -0.03 |  0.01 |  0.00 | -0.03 |  0.02 | -0.02 |  0.02 | -0.08 |\n",
       "| pdays | -0.03 | -0.03 |  0.01 |  0.13 | -0.02 |  0.00 | -0.09 |  1.00 |  0.70 |  0.73 | ...   | -0.03 | -0.02 |  0.00 | -0.01 |  0.01 |  0.02 | -0.01 | -0.01 | -0.02 |  0.08 |\n",
       "| previous |  0.01 | -0.03 |  0.04 |  0.04 | -0.02 |  0.01 | -0.07 |  0.70 |  1.00 |  0.59 | ...   | -0.02 |  0.01 |  0.02 |  0.00 | -0.01 |  0.04 |  0.00 | -0.01 | -0.01 |  0.15 |\n",
       "| poutfailure | -0.01 | -0.03 |  0.03 |  0.11 |  0.00 | -0.02 | -0.09 |  0.73 |  0.59 |  1.00 | ...   | -0.02 |  0.00 |  0.00 |  0.00 |  0.00 |  0.01 |  0.00 | -0.01 | -0.01 |  0.00 |\n",
       "| poutother | -0.02 | -0.02 |  0.01 |  0.04 | -0.01 |  0.01 | -0.02 |  0.39 |  0.36 | -0.06 | ...   | -0.01 |  0.00 |  0.00 | -0.01 |  0.00 |  0.03 |  0.00 | -0.01 | -0.01 |  0.03 |\n",
       "| poutsuccess |  0.03 | -0.02 |  0.05 | -0.09 | -0.05 |  0.05 | -0.06 |  0.23 |  0.35 | -0.06 | ...   | -0.01 |  0.02 |  0.06 |  0.00 | -0.02 |  0.05 |  0.00 |  0.01 |  0.00 |  0.31 |\n",
       "| poutunknown |  0.00 |  0.04 | -0.05 | -0.06 |  0.03 | -0.01 |  0.11 | -0.89 | -0.82 | -0.75 | ...   |  0.02 | -0.01 | -0.02 |  0.00 |  0.01 | -0.04 |  0.01 |  0.01 |  0.01 | -0.16 |\n",
       "| con_cellular | -0.07 | -0.01 |  0.02 | -0.16 |  0.01 |  0.04 | -0.02 |  0.24 |  0.21 |  0.20 | ...   | -0.01 |  0.10 | -0.02 |  0.02 | -0.03 |  0.03 |  0.06 |  0.01 | -0.03 |  0.14 |\n",
       "| con_telephone |  0.17 | -0.02 |  0.04 | -0.08 | -0.01 | -0.04 |  0.06 |  0.01 |  0.02 |  0.00 | ...   |  0.04 | -0.03 |  0.10 |  0.00 | -0.01 |  0.03 | -0.04 |  0.01 |  0.03 |  0.01 |\n",
       "| con_unknown | -0.02 |  0.02 | -0.04 |  0.21 | -0.01 | -0.02 | -0.01 | -0.25 | -0.23 | -0.21 | ...   | -0.01 | -0.09 | -0.04 | -0.02 |  0.04 | -0.04 | -0.04 | -0.02 |  0.02 | -0.15 |\n",
       "| divorced |  0.17 |  0.02 | -0.03 |  0.00 |  0.01 |  0.00 | -0.01 |  0.00 | -0.01 |  0.00 | ...   |  0.02 |  0.00 |  0.05 | -0.02 |  0.02 | -0.05 |  0.01 |  0.01 | -0.01 |  0.00 |\n",
       "| married |  0.29 | -0.01 |  0.03 |  0.02 |  0.04 | -0.02 |  0.04 | -0.02 | -0.01 |  0.00 | ...   |  0.05 | -0.03 |  0.08 |  0.01 | -0.01 | -0.16 | -0.06 | -0.02 |  0.02 | -0.06 |\n",
       "| single | -0.43 |  0.00 | -0.01 | -0.02 | -0.05 |  0.02 | -0.03 |  0.02 |  0.02 |  0.00 | ...   | -0.06 |  0.03 | -0.12 |  0.00 |  0.00 |  0.21 |  0.06 |  0.01 | -0.01 |  0.06 |\n",
       "| joadmin. | -0.06 | -0.01 | -0.03 |  0.04 |  0.03 | -0.02 | -0.02 |  0.03 |  0.02 |  0.02 | ...   | -0.06 | -0.18 | -0.08 | -0.07 | -0.12 | -0.05 | -0.16 | -0.06 | -0.03 |  0.00 |\n",
       "| joblue.collar | -0.04 |  0.01 | -0.04 |  0.18 |  0.02 |  0.02 |  0.00 |  0.03 | -0.02 |  0.00 | ...   | -0.09 | -0.27 | -0.12 | -0.10 | -0.17 | -0.08 | -0.24 | -0.09 | -0.04 | -0.07 |\n",
       "| joentrepreneur |  0.02 |  0.03 | -0.01 |  0.01 |  0.04 |  0.00 |  0.01 | -0.01 | -0.01 |  0.00 | ...   | -0.03 | -0.09 | -0.04 | -0.04 | -0.06 | -0.03 | -0.08 | -0.03 | -0.01 | -0.02 |\n",
       "| johousemaid |  0.09 |  0.00 |  0.00 | -0.08 | -0.02 | -0.01 |  0.01 | -0.03 | -0.02 | -0.02 | ...   |  1.00 | -0.09 | -0.04 | -0.03 | -0.05 | -0.02 | -0.08 | -0.03 | -0.01 | -0.01 |\n",
       "| jomanagement | -0.02 |  0.00 |  0.06 | -0.06 | -0.04 | -0.01 |  0.02 | -0.02 |  0.01 |  0.00 | ...   | -0.09 |  1.00 | -0.12 | -0.10 | -0.16 | -0.07 | -0.23 | -0.09 | -0.04 |  0.03 |\n",
       "| joretired |  0.45 | -0.01 |  0.05 | -0.15 | -0.01 |  0.03 | -0.03 |  0.00 |  0.02 |  0.00 | ...   | -0.04 | -0.12 |  1.00 | -0.04 | -0.07 | -0.03 | -0.10 | -0.04 | -0.02 |  0.08 |\n",
       "| joself.employed | -0.01 |  0.01 |  0.02 | -0.03 | -0.01 |  0.00 |  0.01 | -0.01 |  0.00 |  0.00 | ...   | -0.03 | -0.10 | -0.04 |  1.00 | -0.06 | -0.03 | -0.09 | -0.03 | -0.02 |  0.00 |\n",
       "| joservices | -0.07 |  0.00 | -0.04 |  0.07 |  0.03 |  0.00 |  0.00 |  0.01 | -0.01 |  0.00 | ...   | -0.05 | -0.16 | -0.07 | -0.06 |  1.00 | -0.05 | -0.14 | -0.06 | -0.03 | -0.03 |\n",
       "| jostudent | -0.20 | -0.02 |  0.01 | -0.09 | -0.06 | -0.01 | -0.03 |  0.02 |  0.04 |  0.01 | ...   | -0.02 | -0.07 | -0.03 | -0.03 | -0.05 |  1.00 | -0.07 | -0.02 | -0.01 |  0.08 |\n",
       "| jotechnician | -0.07 | -0.01 | -0.01 | -0.01 |  0.01 | -0.01 |  0.02 | -0.01 |  0.00 |  0.00 | ...   | -0.08 | -0.23 | -0.10 | -0.09 | -0.14 | -0.07 |  1.00 | -0.08 | -0.04 | -0.01 |\n",
       "| jounemployed |  0.00 |  0.01 |  0.01 | -0.05 | -0.04 |  0.02 | -0.02 | -0.01 | -0.01 | -0.01 | ...   | -0.03 | -0.09 | -0.04 | -0.03 | -0.06 | -0.02 | -0.08 |  1.00 | -0.01 |  0.02 |\n",
       "| jounknown |  0.05 | -0.01 |  0.01 | -0.08 | -0.03 | -0.01 |  0.02 | -0.02 | -0.01 | -0.01 | ...   | -0.01 | -0.04 | -0.02 | -0.02 | -0.03 | -0.01 | -0.04 | -0.01 |  1.00 |  0.00 |\n",
       "| y |  0.02 | -0.02 |  0.08 | -0.15 | -0.07 |  0.39 | -0.08 |  0.08 |  0.15 |  0.00 | ...   | -0.01 |  0.03 |  0.08 |  0.00 | -0.03 |  0.08 | -0.01 |  0.02 |  0.00 |  1.00 |\n",
       "\n"
      ],
      "text/plain": [
       "                age   default balance housing loan  duration campaign pdays\n",
       "age              1.00 -0.02    0.10   -0.18   -0.01 -0.01     0.02    -0.03\n",
       "default         -0.02  1.00   -0.09   -0.01    0.08  0.00     0.01    -0.03\n",
       "balance          0.10 -0.09    1.00   -0.07   -0.10  0.03    -0.02     0.01\n",
       "housing         -0.18 -0.01   -0.07    1.00    0.04  0.01    -0.04     0.13\n",
       "loan            -0.01  0.08   -0.10    0.04    1.00 -0.01     0.00    -0.02\n",
       "duration        -0.01  0.00    0.03    0.01   -0.01  1.00    -0.08     0.00\n",
       "campaign         0.02  0.01   -0.02   -0.04    0.00 -0.08     1.00    -0.09\n",
       "pdays           -0.03 -0.03    0.01    0.13   -0.02  0.00    -0.09     1.00\n",
       "previous         0.01 -0.03    0.04    0.04   -0.02  0.01    -0.07     0.70\n",
       "poutfailure     -0.01 -0.03    0.03    0.11    0.00 -0.02    -0.09     0.73\n",
       "poutother       -0.02 -0.02    0.01    0.04   -0.01  0.01    -0.02     0.39\n",
       "poutsuccess      0.03 -0.02    0.05   -0.09   -0.05  0.05    -0.06     0.23\n",
       "poutunknown      0.00  0.04   -0.05   -0.06    0.03 -0.01     0.11    -0.89\n",
       "con_cellular    -0.07 -0.01    0.02   -0.16    0.01  0.04    -0.02     0.24\n",
       "con_telephone    0.17 -0.02    0.04   -0.08   -0.01 -0.04     0.06     0.01\n",
       "con_unknown     -0.02  0.02   -0.04    0.21   -0.01 -0.02    -0.01    -0.25\n",
       "divorced         0.17  0.02   -0.03    0.00    0.01  0.00    -0.01     0.00\n",
       "married          0.29 -0.01    0.03    0.02    0.04 -0.02     0.04    -0.02\n",
       "single          -0.43  0.00   -0.01   -0.02   -0.05  0.02    -0.03     0.02\n",
       "joadmin.        -0.06 -0.01   -0.03    0.04    0.03 -0.02    -0.02     0.03\n",
       "joblue.collar   -0.04  0.01   -0.04    0.18    0.02  0.02     0.00     0.03\n",
       "joentrepreneur   0.02  0.03   -0.01    0.01    0.04  0.00     0.01    -0.01\n",
       "johousemaid      0.09  0.00    0.00   -0.08   -0.02 -0.01     0.01    -0.03\n",
       "jomanagement    -0.02  0.00    0.06   -0.06   -0.04 -0.01     0.02    -0.02\n",
       "joretired        0.45 -0.01    0.05   -0.15   -0.01  0.03    -0.03     0.00\n",
       "joself.employed -0.01  0.01    0.02   -0.03   -0.01  0.00     0.01    -0.01\n",
       "joservices      -0.07  0.00   -0.04    0.07    0.03  0.00     0.00     0.01\n",
       "jostudent       -0.20 -0.02    0.01   -0.09   -0.06 -0.01    -0.03     0.02\n",
       "jotechnician    -0.07 -0.01   -0.01   -0.01    0.01 -0.01     0.02    -0.01\n",
       "jounemployed     0.00  0.01    0.01   -0.05   -0.04  0.02    -0.02    -0.01\n",
       "jounknown        0.05 -0.01    0.01   -0.08   -0.03 -0.01     0.02    -0.02\n",
       "y                0.02 -0.02    0.08   -0.15   -0.07  0.39    -0.08     0.08\n",
       "                previous poutfailure ... johousemaid jomanagement joretired\n",
       "age              0.01    -0.01       ...  0.09       -0.02         0.45    \n",
       "default         -0.03    -0.03       ...  0.00        0.00        -0.01    \n",
       "balance          0.04     0.03       ...  0.00        0.06         0.05    \n",
       "housing          0.04     0.11       ... -0.08       -0.06        -0.15    \n",
       "loan            -0.02     0.00       ... -0.02       -0.04        -0.01    \n",
       "duration         0.01    -0.02       ... -0.01       -0.01         0.03    \n",
       "campaign        -0.07    -0.09       ...  0.01        0.02        -0.03    \n",
       "pdays            0.70     0.73       ... -0.03       -0.02         0.00    \n",
       "previous         1.00     0.59       ... -0.02        0.01         0.02    \n",
       "poutfailure      0.59     1.00       ... -0.02        0.00         0.00    \n",
       "poutother        0.36    -0.06       ... -0.01        0.00         0.00    \n",
       "poutsuccess      0.35    -0.06       ... -0.01        0.02         0.06    \n",
       "poutunknown     -0.82    -0.75       ...  0.02       -0.01        -0.02    \n",
       "con_cellular     0.21     0.20       ... -0.01        0.10        -0.02    \n",
       "con_telephone    0.02     0.00       ...  0.04       -0.03         0.10    \n",
       "con_unknown     -0.23    -0.21       ... -0.01       -0.09        -0.04    \n",
       "divorced        -0.01     0.00       ...  0.02        0.00         0.05    \n",
       "married         -0.01     0.00       ...  0.05       -0.03         0.08    \n",
       "single           0.02     0.00       ... -0.06        0.03        -0.12    \n",
       "joadmin.         0.02     0.02       ... -0.06       -0.18        -0.08    \n",
       "joblue.collar   -0.02     0.00       ... -0.09       -0.27        -0.12    \n",
       "joentrepreneur  -0.01     0.00       ... -0.03       -0.09        -0.04    \n",
       "johousemaid     -0.02    -0.02       ...  1.00       -0.09        -0.04    \n",
       "jomanagement     0.01     0.00       ... -0.09        1.00        -0.12    \n",
       "joretired        0.02     0.00       ... -0.04       -0.12         1.00    \n",
       "joself.employed  0.00     0.00       ... -0.03       -0.10        -0.04    \n",
       "joservices      -0.01     0.00       ... -0.05       -0.16        -0.07    \n",
       "jostudent        0.04     0.01       ... -0.02       -0.07        -0.03    \n",
       "jotechnician     0.00     0.00       ... -0.08       -0.23        -0.10    \n",
       "jounemployed    -0.01    -0.01       ... -0.03       -0.09        -0.04    \n",
       "jounknown       -0.01    -0.01       ... -0.01       -0.04        -0.02    \n",
       "y                0.15     0.00       ... -0.01        0.03         0.08    \n",
       "                joself.employed joservices jostudent jotechnician jounemployed\n",
       "age             -0.01           -0.07      -0.20     -0.07         0.00       \n",
       "default          0.01            0.00      -0.02     -0.01         0.01       \n",
       "balance          0.02           -0.04       0.01     -0.01         0.01       \n",
       "housing         -0.03            0.07      -0.09     -0.01        -0.05       \n",
       "loan            -0.01            0.03      -0.06      0.01        -0.04       \n",
       "duration         0.00            0.00      -0.01     -0.01         0.02       \n",
       "campaign         0.01            0.00      -0.03      0.02        -0.02       \n",
       "pdays           -0.01            0.01       0.02     -0.01        -0.01       \n",
       "previous         0.00           -0.01       0.04      0.00        -0.01       \n",
       "poutfailure      0.00            0.00       0.01      0.00        -0.01       \n",
       "poutother       -0.01            0.00       0.03      0.00        -0.01       \n",
       "poutsuccess      0.00           -0.02       0.05      0.00         0.01       \n",
       "poutunknown      0.00            0.01      -0.04      0.01         0.01       \n",
       "con_cellular     0.02           -0.03       0.03      0.06         0.01       \n",
       "con_telephone    0.00           -0.01       0.03     -0.04         0.01       \n",
       "con_unknown     -0.02            0.04      -0.04     -0.04        -0.02       \n",
       "divorced        -0.02            0.02      -0.05      0.01         0.01       \n",
       "married          0.01           -0.01      -0.16     -0.06        -0.02       \n",
       "single           0.00            0.00       0.21      0.06         0.01       \n",
       "joadmin.        -0.07           -0.12      -0.05     -0.16        -0.06       \n",
       "joblue.collar   -0.10           -0.17      -0.08     -0.24        -0.09       \n",
       "joentrepreneur  -0.04           -0.06      -0.03     -0.08        -0.03       \n",
       "johousemaid     -0.03           -0.05      -0.02     -0.08        -0.03       \n",
       "jomanagement    -0.10           -0.16      -0.07     -0.23        -0.09       \n",
       "joretired       -0.04           -0.07      -0.03     -0.10        -0.04       \n",
       "joself.employed  1.00           -0.06      -0.03     -0.09        -0.03       \n",
       "joservices      -0.06            1.00      -0.05     -0.14        -0.06       \n",
       "jostudent       -0.03           -0.05       1.00     -0.07        -0.02       \n",
       "jotechnician    -0.09           -0.14      -0.07      1.00        -0.08       \n",
       "jounemployed    -0.03           -0.06      -0.02     -0.08         1.00       \n",
       "jounknown       -0.02           -0.03      -0.01     -0.04        -0.01       \n",
       "y                0.00           -0.03       0.08     -0.01         0.02       \n",
       "                jounknown y    \n",
       "age              0.05      0.02\n",
       "default         -0.01     -0.02\n",
       "balance          0.01      0.08\n",
       "housing         -0.08     -0.15\n",
       "loan            -0.03     -0.07\n",
       "duration        -0.01      0.39\n",
       "campaign         0.02     -0.08\n",
       "pdays           -0.02      0.08\n",
       "previous        -0.01      0.15\n",
       "poutfailure     -0.01      0.00\n",
       "poutother       -0.01      0.03\n",
       "poutsuccess      0.00      0.31\n",
       "poutunknown      0.01     -0.16\n",
       "con_cellular    -0.03      0.14\n",
       "con_telephone    0.03      0.01\n",
       "con_unknown      0.02     -0.15\n",
       "divorced        -0.01      0.00\n",
       "married          0.02     -0.06\n",
       "single          -0.01      0.06\n",
       "joadmin.        -0.03      0.00\n",
       "joblue.collar   -0.04     -0.07\n",
       "joentrepreneur  -0.01     -0.02\n",
       "johousemaid     -0.01     -0.01\n",
       "jomanagement    -0.04      0.03\n",
       "joretired       -0.02      0.08\n",
       "joself.employed -0.02      0.00\n",
       "joservices      -0.03     -0.03\n",
       "jostudent       -0.01      0.08\n",
       "jotechnician    -0.04     -0.01\n",
       "jounemployed    -0.01      0.02\n",
       "jounknown        1.00      0.00\n",
       "y                0.00      1.00"
      ]
     },
     "metadata": {},
     "output_type": "display_data"
    }
   ],
   "source": [
    "round(cor(trm_dep),2)"
   ]
  },
  {
   "cell_type": "markdown",
   "metadata": {},
   "source": [
    "### Scaling - Normalizing"
   ]
  },
  {
   "cell_type": "code",
   "execution_count": 11,
   "metadata": {},
   "outputs": [
    {
     "name": "stderr",
     "output_type": "stream",
     "text": [
      "also installing the dependencies ‘nloptr’, ‘classInt’, ‘lme4’, ‘questionr’, ‘BradleyTerry2’, ‘e1071’, ‘klaR’, ‘Cubist’\n",
      "\n",
      "Warning message in install.packages(\"caret\", dependencies = TRUE):\n",
      "“installation of package ‘nloptr’ had non-zero exit status”Warning message in install.packages(\"caret\", dependencies = TRUE):\n",
      "“installation of package ‘e1071’ had non-zero exit status”Warning message in install.packages(\"caret\", dependencies = TRUE):\n",
      "“installation of package ‘Cubist’ had non-zero exit status”Warning message in install.packages(\"caret\", dependencies = TRUE):\n",
      "“installation of package ‘classInt’ had non-zero exit status”Warning message in install.packages(\"caret\", dependencies = TRUE):\n",
      "“installation of package ‘lme4’ had non-zero exit status”Warning message in install.packages(\"caret\", dependencies = TRUE):\n",
      "“installation of package ‘questionr’ had non-zero exit status”Warning message in install.packages(\"caret\", dependencies = TRUE):\n",
      "“installation of package ‘BradleyTerry2’ had non-zero exit status”Warning message in install.packages(\"caret\", dependencies = TRUE):\n",
      "“installation of package ‘klaR’ had non-zero exit status”Updating HTML index of packages in '.Library'\n",
      "Making 'packages.html' ... done\n",
      "Loading required package: lattice\n",
      "Loading required package: ggplot2\n",
      "Registered S3 methods overwritten by 'ggplot2':\n",
      "  method         from \n",
      "  [.quosures     rlang\n",
      "  c.quosures     rlang\n",
      "  print.quosures rlang\n"
     ]
    }
   ],
   "source": [
    "install.packages('caret', dependencies = TRUE)\n",
    "library('caret')"
   ]
  },
  {
   "cell_type": "markdown",
   "metadata": {},
   "source": [
    "### Train and Test Split"
   ]
  },
  {
   "cell_type": "code",
   "execution_count": 12,
   "metadata": {},
   "outputs": [],
   "source": [
    "library('caTools') \n",
    "set.seed(123) \n",
    "split = sample.split(trm_dep, SplitRatio = 0.7) \n",
    "train = subset(trm_dep, split == TRUE)\n",
    "test = subset(trm_dep, split == FALSE) "
   ]
  },
  {
   "cell_type": "code",
   "execution_count": 13,
   "metadata": {},
   "outputs": [
    {
     "data": {
      "text/html": [
       "<table>\n",
       "<thead><tr><th></th><th scope=col>age</th><th scope=col>default</th><th scope=col>balance</th><th scope=col>housing</th><th scope=col>loan</th><th scope=col>duration</th><th scope=col>campaign</th><th scope=col>pdays</th><th scope=col>previous</th><th scope=col>poutfailure</th><th scope=col>...</th><th scope=col>johousemaid</th><th scope=col>jomanagement</th><th scope=col>joretired</th><th scope=col>joself.employed</th><th scope=col>joservices</th><th scope=col>jostudent</th><th scope=col>jotechnician</th><th scope=col>jounemployed</th><th scope=col>jounknown</th><th scope=col>y</th></tr></thead>\n",
       "<tbody>\n",
       "\t<tr><th scope=row>1</th><td>58  </td><td>0   </td><td>2143</td><td>1   </td><td>0   </td><td>261 </td><td>1   </td><td>-1  </td><td>0   </td><td>0   </td><td>... </td><td>0   </td><td>1   </td><td>0   </td><td>0   </td><td>0   </td><td>0   </td><td>0   </td><td>0   </td><td>0   </td><td>0   </td></tr>\n",
       "\t<tr><th scope=row>2</th><td>44  </td><td>0   </td><td>  29</td><td>1   </td><td>0   </td><td>151 </td><td>1   </td><td>-1  </td><td>0   </td><td>0   </td><td>... </td><td>0   </td><td>0   </td><td>0   </td><td>0   </td><td>0   </td><td>0   </td><td>1   </td><td>0   </td><td>0   </td><td>0   </td></tr>\n",
       "\t<tr><th scope=row>3</th><td>33  </td><td>0   </td><td>   2</td><td>1   </td><td>1   </td><td> 76 </td><td>1   </td><td>-1  </td><td>0   </td><td>0   </td><td>... </td><td>0   </td><td>0   </td><td>0   </td><td>0   </td><td>0   </td><td>0   </td><td>0   </td><td>0   </td><td>0   </td><td>0   </td></tr>\n",
       "\t<tr><th scope=row>6</th><td>35  </td><td>0   </td><td> 231</td><td>1   </td><td>0   </td><td>139 </td><td>1   </td><td>-1  </td><td>0   </td><td>0   </td><td>... </td><td>0   </td><td>1   </td><td>0   </td><td>0   </td><td>0   </td><td>0   </td><td>0   </td><td>0   </td><td>0   </td><td>0   </td></tr>\n",
       "\t<tr><th scope=row>7</th><td>28  </td><td>0   </td><td> 447</td><td>1   </td><td>1   </td><td>217 </td><td>1   </td><td>-1  </td><td>0   </td><td>0   </td><td>... </td><td>0   </td><td>1   </td><td>0   </td><td>0   </td><td>0   </td><td>0   </td><td>0   </td><td>0   </td><td>0   </td><td>0   </td></tr>\n",
       "\t<tr><th scope=row>9</th><td>58  </td><td>0   </td><td> 121</td><td>1   </td><td>0   </td><td> 50 </td><td>1   </td><td>-1  </td><td>0   </td><td>0   </td><td>... </td><td>0   </td><td>0   </td><td>1   </td><td>0   </td><td>0   </td><td>0   </td><td>0   </td><td>0   </td><td>0   </td><td>0   </td></tr>\n",
       "</tbody>\n",
       "</table>\n"
      ],
      "text/latex": [
       "\\begin{tabular}{r|llllllllllllllllllllllllllllllll}\n",
       "  & age & default & balance & housing & loan & duration & campaign & pdays & previous & poutfailure & ... & johousemaid & jomanagement & joretired & joself.employed & joservices & jostudent & jotechnician & jounemployed & jounknown & y\\\\\n",
       "\\hline\n",
       "\t1 & 58   & 0    & 2143 & 1    & 0    & 261  & 1    & -1   & 0    & 0    & ...  & 0    & 1    & 0    & 0    & 0    & 0    & 0    & 0    & 0    & 0   \\\\\n",
       "\t2 & 44   & 0    &   29 & 1    & 0    & 151  & 1    & -1   & 0    & 0    & ...  & 0    & 0    & 0    & 0    & 0    & 0    & 1    & 0    & 0    & 0   \\\\\n",
       "\t3 & 33   & 0    &    2 & 1    & 1    &  76  & 1    & -1   & 0    & 0    & ...  & 0    & 0    & 0    & 0    & 0    & 0    & 0    & 0    & 0    & 0   \\\\\n",
       "\t6 & 35   & 0    &  231 & 1    & 0    & 139  & 1    & -1   & 0    & 0    & ...  & 0    & 1    & 0    & 0    & 0    & 0    & 0    & 0    & 0    & 0   \\\\\n",
       "\t7 & 28   & 0    &  447 & 1    & 1    & 217  & 1    & -1   & 0    & 0    & ...  & 0    & 1    & 0    & 0    & 0    & 0    & 0    & 0    & 0    & 0   \\\\\n",
       "\t9 & 58   & 0    &  121 & 1    & 0    &  50  & 1    & -1   & 0    & 0    & ...  & 0    & 0    & 1    & 0    & 0    & 0    & 0    & 0    & 0    & 0   \\\\\n",
       "\\end{tabular}\n"
      ],
      "text/markdown": [
       "\n",
       "| <!--/--> | age | default | balance | housing | loan | duration | campaign | pdays | previous | poutfailure | ... | johousemaid | jomanagement | joretired | joself.employed | joservices | jostudent | jotechnician | jounemployed | jounknown | y |\n",
       "|---|---|---|---|---|---|---|---|---|---|---|---|---|---|---|---|---|---|---|---|---|---|\n",
       "| 1 | 58   | 0    | 2143 | 1    | 0    | 261  | 1    | -1   | 0    | 0    | ...  | 0    | 1    | 0    | 0    | 0    | 0    | 0    | 0    | 0    | 0    |\n",
       "| 2 | 44   | 0    |   29 | 1    | 0    | 151  | 1    | -1   | 0    | 0    | ...  | 0    | 0    | 0    | 0    | 0    | 0    | 1    | 0    | 0    | 0    |\n",
       "| 3 | 33   | 0    |    2 | 1    | 1    |  76  | 1    | -1   | 0    | 0    | ...  | 0    | 0    | 0    | 0    | 0    | 0    | 0    | 0    | 0    | 0    |\n",
       "| 6 | 35   | 0    |  231 | 1    | 0    | 139  | 1    | -1   | 0    | 0    | ...  | 0    | 1    | 0    | 0    | 0    | 0    | 0    | 0    | 0    | 0    |\n",
       "| 7 | 28   | 0    |  447 | 1    | 1    | 217  | 1    | -1   | 0    | 0    | ...  | 0    | 1    | 0    | 0    | 0    | 0    | 0    | 0    | 0    | 0    |\n",
       "| 9 | 58   | 0    |  121 | 1    | 0    |  50  | 1    | -1   | 0    | 0    | ...  | 0    | 0    | 1    | 0    | 0    | 0    | 0    | 0    | 0    | 0    |\n",
       "\n"
      ],
      "text/plain": [
       "  age default balance housing loan duration campaign pdays previous poutfailure\n",
       "1 58  0       2143    1       0    261      1        -1    0        0          \n",
       "2 44  0         29    1       0    151      1        -1    0        0          \n",
       "3 33  0          2    1       1     76      1        -1    0        0          \n",
       "6 35  0        231    1       0    139      1        -1    0        0          \n",
       "7 28  0        447    1       1    217      1        -1    0        0          \n",
       "9 58  0        121    1       0     50      1        -1    0        0          \n",
       "  ... johousemaid jomanagement joretired joself.employed joservices jostudent\n",
       "1 ... 0           1            0         0               0          0        \n",
       "2 ... 0           0            0         0               0          0        \n",
       "3 ... 0           0            0         0               0          0        \n",
       "6 ... 0           1            0         0               0          0        \n",
       "7 ... 0           1            0         0               0          0        \n",
       "9 ... 0           0            1         0               0          0        \n",
       "  jotechnician jounemployed jounknown y\n",
       "1 0            0            0         0\n",
       "2 1            0            0         0\n",
       "3 0            0            0         0\n",
       "6 0            0            0         0\n",
       "7 0            0            0         0\n",
       "9 0            0            0         0"
      ]
     },
     "metadata": {},
     "output_type": "display_data"
    }
   ],
   "source": [
    "head(train)"
   ]
  },
  {
   "cell_type": "code",
   "execution_count": 14,
   "metadata": {},
   "outputs": [
    {
     "data": {
      "text/plain": [
       "      age            default           balance          housing      \n",
       " Min.   :0.0000   Min.   :0.00000   Min.   :0.0000   Min.   :0.0000  \n",
       " 1st Qu.:0.1948   1st Qu.:0.00000   1st Qu.:0.3818   1st Qu.:0.0000  \n",
       " Median :0.2727   Median :0.00000   Median :0.3993   Median :1.0000  \n",
       " Mean   :0.2974   Mean   :0.01871   Mean   :0.4329   Mean   :0.5542  \n",
       " 3rd Qu.:0.3896   3rd Qu.:0.00000   3rd Qu.:0.4440   3rd Qu.:1.0000  \n",
       " Max.   :1.0000   Max.   :1.00000   Max.   :1.0000   Max.   :1.0000  \n",
       "      loan           duration          campaign           pdays        \n",
       " Min.   :0.0000   Min.   :0.00000   Min.   :0.00000   Min.   :0.00000  \n",
       " 1st Qu.:0.0000   1st Qu.:0.08215   1st Qu.:0.00000   1st Qu.:0.00000  \n",
       " Median :0.0000   Median :0.14139   Median :0.07143   Median :0.00000  \n",
       " Mean   :0.1614   Mean   :0.19376   Mean   :0.10926   Mean   :0.09418  \n",
       " 3rd Qu.:0.0000   3rd Qu.:0.24803   3rd Qu.:0.14286   3rd Qu.:0.00000  \n",
       " Max.   :1.0000   Max.   :1.00000   Max.   :1.00000   Max.   :1.00000  \n",
       "    previous        poutfailure        poutother        poutsuccess     \n",
       " Min.   :0.00000   Min.   :0.00000   Min.   :0.00000   Min.   :0.00000  \n",
       " 1st Qu.:0.00000   1st Qu.:0.00000   1st Qu.:0.00000   1st Qu.:0.00000  \n",
       " Median :0.00000   Median :0.00000   Median :0.00000   Median :0.00000  \n",
       " Mean   :0.05767   Mean   :0.09946   Mean   :0.03405   Mean   :0.03038  \n",
       " 3rd Qu.:0.00000   3rd Qu.:0.00000   3rd Qu.:0.00000   3rd Qu.:0.00000  \n",
       " Max.   :1.00000   Max.   :1.00000   Max.   :1.00000   Max.   :1.00000  \n",
       "  poutunknown      con_cellular   con_telephone      con_unknown    \n",
       " Min.   :0.0000   Min.   :0.000   Min.   :0.00000   Min.   :0.0000  \n",
       " 1st Qu.:1.0000   1st Qu.:0.000   1st Qu.:0.00000   1st Qu.:0.0000  \n",
       " Median :1.0000   Median :1.000   Median :0.00000   Median :0.0000  \n",
       " Mean   :0.8361   Mean   :0.643   Mean   :0.06293   Mean   :0.2941  \n",
       " 3rd Qu.:1.0000   3rd Qu.:1.000   3rd Qu.:0.00000   3rd Qu.:1.0000  \n",
       " Max.   :1.0000   Max.   :1.000   Max.   :1.00000   Max.   :1.0000  \n",
       "    divorced         married           single         joadmin.     \n",
       " Min.   :0.0000   Min.   :0.0000   Min.   :0.000   Min.   :0.0000  \n",
       " 1st Qu.:0.0000   1st Qu.:0.0000   1st Qu.:0.000   1st Qu.:0.0000  \n",
       " Median :0.0000   Median :1.0000   Median :0.000   Median :0.0000  \n",
       " Mean   :0.1144   Mean   :0.6036   Mean   :0.282   Mean   :0.1162  \n",
       " 3rd Qu.:0.0000   3rd Qu.:1.0000   3rd Qu.:1.000   3rd Qu.:0.0000  \n",
       " Max.   :1.0000   Max.   :1.0000   Max.   :1.000   Max.   :1.0000  \n",
       " joblue.collar    joentrepreneur     johousemaid       jomanagement   \n",
       " Min.   :0.0000   Min.   :0.00000   Min.   :0.00000   Min.   :0.0000  \n",
       " 1st Qu.:0.0000   1st Qu.:0.00000   1st Qu.:0.00000   1st Qu.:0.0000  \n",
       " Median :0.0000   Median :0.00000   Median :0.00000   Median :0.0000  \n",
       " Mean   :0.2188   Mean   :0.03276   Mean   :0.02772   Mean   :0.2059  \n",
       " 3rd Qu.:0.0000   3rd Qu.:0.00000   3rd Qu.:0.00000   3rd Qu.:0.0000  \n",
       " Max.   :1.0000   Max.   :1.00000   Max.   :1.00000   Max.   :1.0000  \n",
       "   joretired       joself.employed     joservices        jostudent      \n",
       " Min.   :0.00000   Min.   :0.00000   Min.   :0.00000   Min.   :0.00000  \n",
       " 1st Qu.:0.00000   1st Qu.:0.00000   1st Qu.:0.00000   1st Qu.:0.00000  \n",
       " Median :0.00000   Median :0.00000   Median :0.00000   Median :0.00000  \n",
       " Mean   :0.04983   Mean   :0.03439   Mean   :0.09201   Mean   :0.02048  \n",
       " 3rd Qu.:0.00000   3rd Qu.:0.00000   3rd Qu.:0.00000   3rd Qu.:0.00000  \n",
       " Max.   :1.00000   Max.   :1.00000   Max.   :1.00000   Max.   :1.00000  \n",
       "  jotechnician     jounemployed       jounknown              y         \n",
       " Min.   :0.0000   Min.   :0.00000   Min.   :0.000000   Min.   :0.0000  \n",
       " 1st Qu.:0.0000   1st Qu.:0.00000   1st Qu.:0.000000   1st Qu.:0.0000  \n",
       " Median :0.0000   Median :0.00000   Median :0.000000   Median :0.0000  \n",
       " Mean   :0.1678   Mean   :0.02769   Mean   :0.006361   Mean   :0.1097  \n",
       " 3rd Qu.:0.0000   3rd Qu.:0.00000   3rd Qu.:0.000000   3rd Qu.:0.0000  \n",
       " Max.   :1.0000   Max.   :1.00000   Max.   :1.000000   Max.   :1.0000  "
      ]
     },
     "metadata": {},
     "output_type": "display_data"
    }
   ],
   "source": [
    "library('caret')\n",
    "preproc = preProcess(train, method = c(\"range\"))\n",
    "\n",
    "train_norm <- predict(preproc, train)\n",
    " \n",
    "summary(train_norm)"
   ]
  },
  {
   "cell_type": "markdown",
   "metadata": {},
   "source": [
    "### Building the First Training Model"
   ]
  },
  {
   "cell_type": "code",
   "execution_count": 15,
   "metadata": {},
   "outputs": [
    {
     "data": {
      "text/plain": [
       "\n",
       "Call:\n",
       "glm(formula = y ~ ., family = \"binomial\", data = train_norm)\n",
       "\n",
       "Deviance Residuals: \n",
       "    Min       1Q   Median       3Q      Max  \n",
       "-3.3213  -0.3805  -0.2465  -0.1488   3.1289  \n",
       "\n",
       "Coefficients: (4 not defined because of singularities)\n",
       "                 Estimate Std. Error z value Pr(>|z|)    \n",
       "(Intercept)     -4.780211   0.304642 -15.691  < 2e-16 ***\n",
       "age             -0.037752   0.210207  -0.180  0.85747    \n",
       "default         -0.049912   0.195991  -0.255  0.79898    \n",
       "balance          1.305604   0.223805   5.834 5.42e-09 ***\n",
       "housing         -0.810542   0.051095 -15.863  < 2e-16 ***\n",
       "loan            -0.607203   0.074511  -8.149 3.66e-16 ***\n",
       "duration         6.219093   0.114038  54.535  < 2e-16 ***\n",
       "campaign        -1.819371   0.194997  -9.330  < 2e-16 ***\n",
       "pdays           -1.123106   0.189788  -5.918 3.27e-09 ***\n",
       "previous         0.544790   0.193947   2.809  0.00497 ** \n",
       "poutfailure      0.693637   0.146520   4.734 2.20e-06 ***\n",
       "poutother        0.856412   0.163582   5.235 1.65e-07 ***\n",
       "poutsuccess      2.974972   0.139529  21.322  < 2e-16 ***\n",
       "poutunknown            NA         NA      NA       NA    \n",
       "con_cellular     1.188043   0.072595  16.365  < 2e-16 ***\n",
       "con_telephone    1.261028   0.110332  11.429  < 2e-16 ***\n",
       "con_unknown            NA         NA      NA       NA    \n",
       "divorced        -0.147830   0.084082  -1.758  0.07872 .  \n",
       "married         -0.319071   0.057023  -5.595 2.20e-08 ***\n",
       "single                 NA         NA      NA       NA    \n",
       "joadmin.         0.322986   0.279077   1.157  0.24714    \n",
       "joblue.collar   -0.170789   0.278150  -0.614  0.53920    \n",
       "joentrepreneur  -0.095840   0.306592  -0.313  0.75459    \n",
       "johousemaid     -0.286867   0.309486  -0.927  0.35397    \n",
       "jomanagement     0.210820   0.275122   0.766  0.44351    \n",
       "joretired        0.634996   0.283962   2.236  0.02534 *  \n",
       "joself.employed -0.034212   0.297087  -0.115  0.90832    \n",
       "joservices       0.045785   0.283912   0.161  0.87188    \n",
       "jostudent        0.793047   0.297066   2.670  0.00759 ** \n",
       "jotechnician     0.052862   0.277021   0.191  0.84866    \n",
       "jounemployed    -0.007157   0.298298  -0.024  0.98086    \n",
       "jounknown              NA         NA      NA       NA    \n",
       "---\n",
       "Signif. codes:  0 ‘***’ 0.001 ‘**’ 0.01 ‘*’ 0.05 ‘.’ 0.1 ‘ ’ 1\n",
       "\n",
       "(Dispersion parameter for binomial family taken to be 1)\n",
       "\n",
       "    Null deviance: 20333  on 29397  degrees of freedom\n",
       "Residual deviance: 13779  on 29370  degrees of freedom\n",
       "AIC: 13835\n",
       "\n",
       "Number of Fisher Scoring iterations: 6\n"
      ]
     },
     "metadata": {},
     "output_type": "display_data"
    }
   ],
   "source": [
    "logm1 <- glm(y~.,data=train_norm, family='binomial')\n",
    "summary(logm1)"
   ]
  },
  {
   "cell_type": "markdown",
   "metadata": {},
   "source": [
    "Here there are few features for which p value is high. Let's remove them.\n",
    "\n",
    "Let's remove `joself.employed`, `joservices`, `jotechnician`, `poutunknown`, `con_unknown`, `single`, `joentrepreneur`, `jounemployed`, `age` and `default`\n"
   ]
  },
  {
   "cell_type": "code",
   "execution_count": 16,
   "metadata": {},
   "outputs": [],
   "source": [
    "train_norm <- train_norm[,-c(1,2,13,16,19, 22, 26:27, 29:31)]"
   ]
  },
  {
   "cell_type": "code",
   "execution_count": 17,
   "metadata": {},
   "outputs": [
    {
     "data": {
      "text/plain": [
       "\n",
       "Call:\n",
       "glm(formula = y ~ ., family = \"binomial\", data = train_norm)\n",
       "\n",
       "Deviance Residuals: \n",
       "    Min       1Q   Median       3Q      Max  \n",
       "-3.3245  -0.3804  -0.2469  -0.1487   3.1286  \n",
       "\n",
       "Coefficients:\n",
       "              Estimate Std. Error z value Pr(>|z|)    \n",
       "(Intercept)   -4.76238    0.13611 -34.990  < 2e-16 ***\n",
       "balance        1.30194    0.22221   5.859 4.66e-09 ***\n",
       "housing       -0.80700    0.05035 -16.029  < 2e-16 ***\n",
       "loan          -0.60923    0.07412  -8.219  < 2e-16 ***\n",
       "duration       6.21664    0.11397  54.545  < 2e-16 ***\n",
       "campaign      -1.81781    0.19486  -9.329  < 2e-16 ***\n",
       "pdays         -1.12086    0.18971  -5.908 3.45e-09 ***\n",
       "previous       0.54702    0.19385   2.822  0.00477 ** \n",
       "poutfailure    0.69077    0.14645   4.717 2.40e-06 ***\n",
       "poutother      0.85647    0.16354   5.237 1.63e-07 ***\n",
       "poutsuccess    2.97375    0.13942  21.329  < 2e-16 ***\n",
       "con_cellular   1.18917    0.07249  16.404  < 2e-16 ***\n",
       "con_telephone  1.25779    0.10954  11.483  < 2e-16 ***\n",
       "divorced      -0.15643    0.07869  -1.988  0.04683 *  \n",
       "married       -0.32643    0.05212  -6.263 3.78e-10 ***\n",
       "joadmin.       0.29909    0.07494   3.991 6.58e-05 ***\n",
       "joblue.collar -0.19487    0.07106  -2.742  0.00610 ** \n",
       "johousemaid   -0.31179    0.15676  -1.989  0.04670 *  \n",
       "jomanagement   0.18679    0.06077   3.074  0.00211 ** \n",
       "joretired      0.60358    0.09144   6.601 4.09e-11 ***\n",
       "jostudent      0.77239    0.12243   6.309 2.81e-10 ***\n",
       "---\n",
       "Signif. codes:  0 ‘***’ 0.001 ‘**’ 0.01 ‘*’ 0.05 ‘.’ 0.1 ‘ ’ 1\n",
       "\n",
       "(Dispersion parameter for binomial family taken to be 1)\n",
       "\n",
       "    Null deviance: 20333  on 29397  degrees of freedom\n",
       "Residual deviance: 13780  on 29377  degrees of freedom\n",
       "AIC: 13822\n",
       "\n",
       "Number of Fisher Scoring iterations: 6\n"
      ]
     },
     "metadata": {},
     "output_type": "display_data"
    }
   ],
   "source": [
    "logm2 <- glm(y~.,data=train_norm, family='binomial')\n",
    "summary(logm2)"
   ]
  },
  {
   "cell_type": "markdown",
   "metadata": {},
   "source": [
    "### Checking VIF"
   ]
  },
  {
   "cell_type": "code",
   "execution_count": 18,
   "metadata": {},
   "outputs": [
    {
     "name": "stderr",
     "output_type": "stream",
     "text": [
      "Updating HTML index of packages in '.Library'\n",
      "Making 'packages.html' ... done\n",
      "Registered S3 methods overwritten by 'fmsb':\n",
      "  method    from\n",
      "  print.roc pROC\n",
      "  plot.roc  pROC\n"
     ]
    }
   ],
   "source": [
    "install.packages(\"fmsb\")\n",
    "library(fmsb)"
   ]
  },
  {
   "cell_type": "code",
   "execution_count": 19,
   "metadata": {},
   "outputs": [],
   "source": [
    "vif_func<-function(in_frame,thresh=10,trace=T,...){\n",
    "  \n",
    "  require(fmsb)\n",
    "  \n",
    "  if(class(in_frame) != 'data.frame') in_frame<-data.frame(in_frame)\n",
    "  \n",
    "  #get initial vif value for all comparisons of variables\n",
    "  vif_init<-NULL\n",
    "  var_names <- names(in_frame)\n",
    "  for(val in var_names){\n",
    "    regressors <- var_names[-which(var_names == val)]\n",
    "    form <- paste(regressors, collapse = '+')\n",
    "    form_in <- formula(paste(val, '~', form))\n",
    "    vif_init<-rbind(vif_init, c(val, VIF(lm(form_in, data = in_frame, ...))))\n",
    "  }\n",
    "  vif_max<-max(as.numeric(vif_init[,2]), na.rm = TRUE)\n",
    "  \n",
    "  if(vif_max < thresh){\n",
    "    if(trace==T){ #print output of each iteration\n",
    "      prmatrix(vif_init,collab=c('var','vif'),rowlab=rep('',nrow(vif_init)),quote=F)\n",
    "      cat('\\n')\n",
    "      cat(paste('All variables have VIF < ', thresh,', max VIF ',round(vif_max,2), sep=''),'\\n\\n')\n",
    "    }\n",
    "    return(var_names)\n",
    "  }\n",
    "  else{\n",
    "    \n",
    "    in_dat<-in_frame\n",
    "    \n",
    "    #backwards selection of explanatory variables, stops when all VIF values are below 'thresh'\n",
    "    while(vif_max >= thresh){\n",
    "      \n",
    "      vif_vals<-NULL\n",
    "      var_names <- names(in_dat)\n",
    "      \n",
    "      for(val in var_names){\n",
    "        regressors <- var_names[-which(var_names == val)]\n",
    "        form <- paste(regressors, collapse = '+')\n",
    "        form_in <- formula(paste(val, '~', form))\n",
    "        vif_add<-VIF(lm(form_in, data = in_dat, ...))\n",
    "        vif_vals<-rbind(vif_vals,c(val,vif_add))\n",
    "      }\n",
    "      max_row<-which(vif_vals[,2] == max(as.numeric(vif_vals[,2]), na.rm = TRUE))[1]\n",
    "      \n",
    "      vif_max<-as.numeric(vif_vals[max_row,2])\n",
    "      \n",
    "      if(vif_max<thresh) break\n",
    "      \n",
    "      if(trace==T){ #print output of each iteration\n",
    "        prmatrix(vif_vals,collab=c('var','vif'),rowlab=rep('',nrow(vif_vals)),quote=F)\n",
    "        cat('\\n')\n",
    "        cat('removed: ',vif_vals[max_row,1],vif_max,'\\n\\n')\n",
    "        flush.console()\n",
    "      }\n",
    "      \n",
    "      in_dat<-in_dat[,!names(in_dat) %in% vif_vals[max_row,1]]\n",
    "      \n",
    "    }\n",
    "    \n",
    "    return(names(in_dat))\n",
    "    \n",
    "  }\n",
    "  \n",
    "}"
   ]
  },
  {
   "cell_type": "code",
   "execution_count": 20,
   "metadata": {},
   "outputs": [
    {
     "name": "stdout",
     "output_type": "stream",
     "text": [
      " var           vif             \n",
      " balance       1.03198081716211\n",
      " housing       1.18068355814479\n",
      " loan          1.024546155063  \n",
      " duration      1.20633165707991\n",
      " campaign      1.03244160676266\n",
      " pdays         5.49324284032444\n",
      " previous      3.03722545552166\n",
      " poutfailure   5.89978618924077\n",
      " poutother     2.72647090125773\n",
      " poutsuccess   2.2237587211241 \n",
      " con_cellular  1.34133235706185\n",
      " con_telephone 1.21006423362317\n",
      " divorced      1.28638400148113\n",
      " married       1.34605125207669\n",
      " joadmin.      1.17431710610735\n",
      " joblue.collar 1.30106333181917\n",
      " johousemaid   1.06253353700219\n",
      " jomanagement  1.26102704093255\n",
      " joretired     1.14436082621687\n",
      " jostudent     1.09631147511097\n",
      " y             1.37739530560057\n",
      "\n",
      "removed:  poutfailure 5.899786 \n",
      "\n"
     ]
    }
   ],
   "source": [
    "col<- vif_func(in_frame=train_norm,thresh=5,trace=T)"
   ]
  },
  {
   "cell_type": "markdown",
   "metadata": {},
   "source": [
    "Here we can see that feature `poutfailure` has VIF greater than 5. Let's remove it. and rebuild the model."
   ]
  },
  {
   "cell_type": "code",
   "execution_count": 21,
   "metadata": {},
   "outputs": [],
   "source": [
    "train_norm$poutfailure <- NULL"
   ]
  },
  {
   "cell_type": "code",
   "execution_count": 22,
   "metadata": {},
   "outputs": [
    {
     "data": {
      "text/plain": [
       "\n",
       "Call:\n",
       "glm(formula = y ~ ., family = \"binomial\", data = train_norm)\n",
       "\n",
       "Deviance Residuals: \n",
       "    Min       1Q   Median       3Q      Max  \n",
       "-3.2687  -0.3826  -0.2478  -0.1487   3.1290  \n",
       "\n",
       "Coefficients:\n",
       "              Estimate Std. Error z value Pr(>|z|)    \n",
       "(Intercept)   -4.76436    0.13589 -35.060  < 2e-16 ***\n",
       "balance        1.35818    0.22137   6.135 8.49e-10 ***\n",
       "housing       -0.81807    0.05034 -16.250  < 2e-16 ***\n",
       "loan          -0.61344    0.07417  -8.271  < 2e-16 ***\n",
       "duration       6.19218    0.11367  54.474  < 2e-16 ***\n",
       "campaign      -1.89274    0.19475  -9.719  < 2e-16 ***\n",
       "pdays         -0.48237    0.13151  -3.668 0.000245 ***\n",
       "previous       1.02141    0.16510   6.187 6.14e-10 ***\n",
       "poutother      0.32072    0.11900   2.695 0.007038 ** \n",
       "poutsuccess    2.50436    0.09503  26.354  < 2e-16 ***\n",
       "con_cellular   1.20764    0.07226  16.712  < 2e-16 ***\n",
       "con_telephone  1.26885    0.10939  11.599  < 2e-16 ***\n",
       "divorced      -0.16033    0.07867  -2.038 0.041541 *  \n",
       "married       -0.32384    0.05206  -6.220 4.97e-10 ***\n",
       "joadmin.       0.30105    0.07491   4.019 5.84e-05 ***\n",
       "joblue.collar -0.20294    0.07100  -2.858 0.004261 ** \n",
       "johousemaid   -0.30932    0.15644  -1.977 0.048005 *  \n",
       "jomanagement   0.19145    0.06070   3.154 0.001612 ** \n",
       "joretired      0.61162    0.09134   6.696 2.14e-11 ***\n",
       "jostudent      0.77858    0.12244   6.359 2.04e-10 ***\n",
       "---\n",
       "Signif. codes:  0 ‘***’ 0.001 ‘**’ 0.01 ‘*’ 0.05 ‘.’ 0.1 ‘ ’ 1\n",
       "\n",
       "(Dispersion parameter for binomial family taken to be 1)\n",
       "\n",
       "    Null deviance: 20333  on 29397  degrees of freedom\n",
       "Residual deviance: 13802  on 29378  degrees of freedom\n",
       "AIC: 13842\n",
       "\n",
       "Number of Fisher Scoring iterations: 6\n"
      ]
     },
     "metadata": {},
     "output_type": "display_data"
    }
   ],
   "source": [
    "logm3 <- glm(y~.,data=train_norm, family='binomial')\n",
    "summary(logm3)"
   ]
  },
  {
   "cell_type": "markdown",
   "metadata": {},
   "source": [
    "col<- vif_func(in_frame=train_norm,thresh=5,trace=T)"
   ]
  },
  {
   "cell_type": "markdown",
   "metadata": {},
   "source": [
    "All features are having good VIF and significant p values. So, let's stop building the model here."
   ]
  },
  {
   "cell_type": "markdown",
   "metadata": {},
   "source": [
    "### Predictions on Train set"
   ]
  },
  {
   "cell_type": "code",
   "execution_count": 31,
   "metadata": {},
   "outputs": [
    {
     "data": {
      "text/html": [
       "<table>\n",
       "<thead><tr><th></th><th scope=col>y</th></tr></thead>\n",
       "<tbody>\n",
       "\t<tr><th scope=row>1</th><td>0</td></tr>\n",
       "\t<tr><th scope=row>2</th><td>0</td></tr>\n",
       "\t<tr><th scope=row>3</th><td>0</td></tr>\n",
       "\t<tr><th scope=row>6</th><td>0</td></tr>\n",
       "\t<tr><th scope=row>7</th><td>0</td></tr>\n",
       "\t<tr><th scope=row>9</th><td>0</td></tr>\n",
       "</tbody>\n",
       "</table>\n"
      ],
      "text/latex": [
       "\\begin{tabular}{r|l}\n",
       "  & y\\\\\n",
       "\\hline\n",
       "\t1 & 0\\\\\n",
       "\t2 & 0\\\\\n",
       "\t3 & 0\\\\\n",
       "\t6 & 0\\\\\n",
       "\t7 & 0\\\\\n",
       "\t9 & 0\\\\\n",
       "\\end{tabular}\n"
      ],
      "text/markdown": [
       "\n",
       "| <!--/--> | y |\n",
       "|---|---|\n",
       "| 1 | 0 |\n",
       "| 2 | 0 |\n",
       "| 3 | 0 |\n",
       "| 6 | 0 |\n",
       "| 7 | 0 |\n",
       "| 9 | 0 |\n",
       "\n"
      ],
      "text/plain": [
       "  y\n",
       "1 0\n",
       "2 0\n",
       "3 0\n",
       "6 0\n",
       "7 0\n",
       "9 0"
      ]
     },
     "metadata": {},
     "output_type": "display_data"
    }
   ],
   "source": [
    "y_train_pred <- train_norm[, c(\"y\"), drop=FALSE]\n",
    "head(y_train_pred)"
   ]
  },
  {
   "cell_type": "code",
   "execution_count": 32,
   "metadata": {},
   "outputs": [
    {
     "data": {
      "text/html": [
       "<table>\n",
       "<thead><tr><th></th><th scope=col>y</th><th scope=col>y_prob</th></tr></thead>\n",
       "<tbody>\n",
       "\t<tr><th scope=row>1</th><td>0          </td><td>0.022170652</td></tr>\n",
       "\t<tr><th scope=row>2</th><td>0          </td><td>0.013025134</td></tr>\n",
       "\t<tr><th scope=row>3</th><td>0          </td><td>0.003562889</td></tr>\n",
       "\t<tr><th scope=row>6</th><td>0          </td><td>0.010923037</td></tr>\n",
       "\t<tr><th scope=row>7</th><td>0          </td><td>0.012126744</td></tr>\n",
       "\t<tr><th scope=row>9</th><td>0          </td><td>0.010685826</td></tr>\n",
       "</tbody>\n",
       "</table>\n"
      ],
      "text/latex": [
       "\\begin{tabular}{r|ll}\n",
       "  & y & y\\_prob\\\\\n",
       "\\hline\n",
       "\t1 & 0           & 0.022170652\\\\\n",
       "\t2 & 0           & 0.013025134\\\\\n",
       "\t3 & 0           & 0.003562889\\\\\n",
       "\t6 & 0           & 0.010923037\\\\\n",
       "\t7 & 0           & 0.012126744\\\\\n",
       "\t9 & 0           & 0.010685826\\\\\n",
       "\\end{tabular}\n"
      ],
      "text/markdown": [
       "\n",
       "| <!--/--> | y | y_prob |\n",
       "|---|---|---|\n",
       "| 1 | 0           | 0.022170652 |\n",
       "| 2 | 0           | 0.013025134 |\n",
       "| 3 | 0           | 0.003562889 |\n",
       "| 6 | 0           | 0.010923037 |\n",
       "| 7 | 0           | 0.012126744 |\n",
       "| 9 | 0           | 0.010685826 |\n",
       "\n"
      ],
      "text/plain": [
       "  y y_prob     \n",
       "1 0 0.022170652\n",
       "2 0 0.013025134\n",
       "3 0 0.003562889\n",
       "6 0 0.010923037\n",
       "7 0 0.012126744\n",
       "9 0 0.010685826"
      ]
     },
     "metadata": {},
     "output_type": "display_data"
    }
   ],
   "source": [
    "y_train_pred$y_prob <- predict(logm3,train_norm,type=\"response\")\n",
    "head(y_train_pred)"
   ]
  },
  {
   "cell_type": "code",
   "execution_count": 36,
   "metadata": {},
   "outputs": [
    {
     "data": {
      "text/html": [
       "<table>\n",
       "<thead><tr><th></th><th scope=col>y</th><th scope=col>y_prob</th><th scope=col>pred_values</th></tr></thead>\n",
       "<tbody>\n",
       "\t<tr><th scope=row>1</th><td>0          </td><td>0.022170652</td><td>0          </td></tr>\n",
       "\t<tr><th scope=row>2</th><td>0          </td><td>0.013025134</td><td>0          </td></tr>\n",
       "\t<tr><th scope=row>3</th><td>0          </td><td>0.003562889</td><td>0          </td></tr>\n",
       "\t<tr><th scope=row>6</th><td>0          </td><td>0.010923037</td><td>0          </td></tr>\n",
       "\t<tr><th scope=row>7</th><td>0          </td><td>0.012126744</td><td>0          </td></tr>\n",
       "\t<tr><th scope=row>9</th><td>0          </td><td>0.010685826</td><td>0          </td></tr>\n",
       "</tbody>\n",
       "</table>\n"
      ],
      "text/latex": [
       "\\begin{tabular}{r|lll}\n",
       "  & y & y\\_prob & pred\\_values\\\\\n",
       "\\hline\n",
       "\t1 & 0           & 0.022170652 & 0          \\\\\n",
       "\t2 & 0           & 0.013025134 & 0          \\\\\n",
       "\t3 & 0           & 0.003562889 & 0          \\\\\n",
       "\t6 & 0           & 0.010923037 & 0          \\\\\n",
       "\t7 & 0           & 0.012126744 & 0          \\\\\n",
       "\t9 & 0           & 0.010685826 & 0          \\\\\n",
       "\\end{tabular}\n"
      ],
      "text/markdown": [
       "\n",
       "| <!--/--> | y | y_prob | pred_values |\n",
       "|---|---|---|---|\n",
       "| 1 | 0           | 0.022170652 | 0           |\n",
       "| 2 | 0           | 0.013025134 | 0           |\n",
       "| 3 | 0           | 0.003562889 | 0           |\n",
       "| 6 | 0           | 0.010923037 | 0           |\n",
       "| 7 | 0           | 0.012126744 | 0           |\n",
       "| 9 | 0           | 0.010685826 | 0           |\n",
       "\n"
      ],
      "text/plain": [
       "  y y_prob      pred_values\n",
       "1 0 0.022170652 0          \n",
       "2 0 0.013025134 0          \n",
       "3 0 0.003562889 0          \n",
       "6 0 0.010923037 0          \n",
       "7 0 0.012126744 0          \n",
       "9 0 0.010685826 0          "
      ]
     },
     "metadata": {},
     "output_type": "display_data"
    }
   ],
   "source": [
    "y_train_pred$pred_values <- ifelse(y_train_pred$y_prob>0.5,1,0)\n",
    "head(y_train_pred)"
   ]
  },
  {
   "cell_type": "code",
   "execution_count": 37,
   "metadata": {},
   "outputs": [
    {
     "data": {
      "text/plain": [
       "\n",
       "    0     1 \n",
       "27707  1691 "
      ]
     },
     "metadata": {},
     "output_type": "display_data"
    }
   ],
   "source": [
    "table(y_train_pred$pred_values)"
   ]
  },
  {
   "cell_type": "code",
   "execution_count": 39,
   "metadata": {},
   "outputs": [
    {
     "data": {
      "text/plain": [
       "       \n",
       "            0     1\n",
       "  FALSE 25555  2152\n",
       "  TRUE    619  1072"
      ]
     },
     "metadata": {},
     "output_type": "display_data"
    }
   ],
   "source": [
    "#Confusion Matrix\n",
    "confusion<-table(y_train_pred$y_prob>0.5,y_train_pred$y)\n",
    "confusion"
   ]
  },
  {
   "cell_type": "code",
   "execution_count": 41,
   "metadata": {},
   "outputs": [],
   "source": [
    "# Predicted     not_sub    subscribe\n",
    "# Actual\n",
    "# not_sub         25555     2152\n",
    "# subscribe         619     1072"
   ]
  },
  {
   "cell_type": "markdown",
   "metadata": {},
   "source": [
    "### Finding the Accuracy "
   ]
  },
  {
   "cell_type": "code",
   "execution_count": 40,
   "metadata": {},
   "outputs": [
    {
     "data": {
      "text/html": [
       "0.905741887203211"
      ],
      "text/latex": [
       "0.905741887203211"
      ],
      "text/markdown": [
       "0.905741887203211"
      ],
      "text/plain": [
       "[1] 0.9057419"
      ]
     },
     "metadata": {},
     "output_type": "display_data"
    }
   ],
   "source": [
    "Accuracy<-sum(diag(confusion)/sum(confusion))\n",
    "Accuracy "
   ]
  },
  {
   "cell_type": "markdown",
   "metadata": {},
   "source": [
    "### ROC Curve"
   ]
  },
  {
   "cell_type": "code",
   "execution_count": 43,
   "metadata": {},
   "outputs": [
    {
     "name": "stderr",
     "output_type": "stream",
     "text": [
      "Updating HTML index of packages in '.Library'\n",
      "Making 'packages.html' ... done\n"
     ]
    }
   ],
   "source": [
    "install.packages('ROCR')"
   ]
  },
  {
   "cell_type": "code",
   "execution_count": 44,
   "metadata": {},
   "outputs": [
    {
     "name": "stderr",
     "output_type": "stream",
     "text": [
      "Loading required package: gplots\n",
      "\n",
      "Attaching package: ‘gplots’\n",
      "\n",
      "The following object is masked from ‘package:stats’:\n",
      "\n",
      "    lowess\n",
      "\n"
     ]
    }
   ],
   "source": [
    "library(ROCR)"
   ]
  },
  {
   "cell_type": "code",
   "execution_count": 48,
   "metadata": {},
   "outputs": [
    {
     "name": "stdout",
     "output_type": "stream",
     "text": [
      "Formal class 'performance' [package \"ROCR\"] with 6 slots\n",
      "  ..@ x.name      : chr \"False positive rate\"\n",
      "  ..@ y.name      : chr \"True positive rate\"\n",
      "  ..@ alpha.name  : chr \"Cutoff\"\n",
      "  ..@ x.values    :List of 1\n",
      "  .. ..$ : num [1:29361] 0 0 0 0 0 ...\n",
      "  ..@ y.values    :List of 1\n",
      "  .. ..$ : num [1:29361] 0 0.00031 0.00062 0.000931 0.001241 ...\n",
      "  ..@ alpha.values:List of 1\n",
      "  .. ..$ : num [1:29361] Inf 0.999 0.998 0.997 0.996 ...\n"
     ]
    },
    {
     "data": {
      "image/png": "[encoded data removed]",
      "text/plain": [
       "plot without title"
      ]
     },
     "metadata": {},
     "output_type": "display_data"
    }
   ],
   "source": [
    "rocrpred<-prediction(y_train_pred$y_prob,y_train_pred$y)\n",
    "rocrperf<-performance(rocrpred,'tpr','fpr')\n",
    "\n",
    "str(rocrperf)\n",
    "\n",
    "plot(rocrperf,colorize=T,text.adj=c(-0.2,1.7))"
   ]
  },
  {
   "cell_type": "markdown",
   "metadata": {},
   "source": [
    "### Area under the curve"
   ]
  },
  {
   "cell_type": "code",
   "execution_count": 122,
   "metadata": {},
   "outputs": [
    {
     "name": "stderr",
     "output_type": "stream",
     "text": [
      "Setting levels: control = 0, case = 1\n",
      "Setting direction: controls < cases\n"
     ]
    },
    {
     "data": {
      "text/html": [
       "0.890818206786004"
      ],
      "text/latex": [
       "0.890818206786004"
      ],
      "text/markdown": [
       "0.890818206786004"
      ],
      "text/plain": [
       "Area under the curve: 0.8908"
      ]
     },
     "metadata": {},
     "output_type": "display_data"
    }
   ],
   "source": [
    "roccurve=roc(y_train_pred$y, y_train_pred$y_prob) #real outcome and predicted score is plotted\n",
    "auc(roccurve)"
   ]
  },
  {
   "cell_type": "markdown",
   "metadata": {},
   "source": [
    "### Finding Optimal Cut off point using Precision and Recall"
   ]
  },
  {
   "cell_type": "code",
   "execution_count": 54,
   "metadata": {},
   "outputs": [
    {
     "name": "stdout",
     "output_type": "stream",
     "text": [
      "Formal class 'performance' [package \"ROCR\"] with 6 slots\n",
      "  ..@ x.name      : chr \"False positive rate\"\n",
      "  ..@ y.name      : chr \"True positive rate\"\n",
      "  ..@ alpha.name  : chr \"Cutoff\"\n",
      "  ..@ x.values    :List of 1\n",
      "  .. ..$ : num [1:29361] 0 0 0 0 0 ...\n",
      "  ..@ y.values    :List of 1\n",
      "  .. ..$ : num [1:29361] 0 0.00031 0.00062 0.000931 0.001241 ...\n",
      "  ..@ alpha.values:List of 1\n",
      "  .. ..$ : num [1:29361] Inf 0.999 0.998 0.997 0.996 ...\n"
     ]
    },
    {
     "data": {
      "text/html": [
       "<table>\n",
       "<thead><tr><th scope=col>cut_off</th><th scope=col>FPR</th><th scope=col>TPR</th></tr></thead>\n",
       "<tbody>\n",
       "\t<tr><td>      Inf   </td><td>0           </td><td>0.0000000000</td></tr>\n",
       "\t<tr><td>0.9987566   </td><td>0           </td><td>0.0003101737</td></tr>\n",
       "\t<tr><td>0.9977547   </td><td>0           </td><td>0.0006203474</td></tr>\n",
       "\t<tr><td>0.9972827   </td><td>0           </td><td>0.0009305211</td></tr>\n",
       "\t<tr><td>0.9960716   </td><td>0           </td><td>0.0012406948</td></tr>\n",
       "\t<tr><td>0.9953000   </td><td>0           </td><td>0.0015508685</td></tr>\n",
       "</tbody>\n",
       "</table>\n"
      ],
      "text/latex": [
       "\\begin{tabular}{r|lll}\n",
       " cut\\_off & FPR & TPR\\\\\n",
       "\\hline\n",
       "\t       Inf    & 0            & 0.0000000000\\\\\n",
       "\t 0.9987566    & 0            & 0.0003101737\\\\\n",
       "\t 0.9977547    & 0            & 0.0006203474\\\\\n",
       "\t 0.9972827    & 0            & 0.0009305211\\\\\n",
       "\t 0.9960716    & 0            & 0.0012406948\\\\\n",
       "\t 0.9953000    & 0            & 0.0015508685\\\\\n",
       "\\end{tabular}\n"
      ],
      "text/markdown": [
       "\n",
       "| cut_off | FPR | TPR |\n",
       "|---|---|---|\n",
       "|       Inf    | 0            | 0.0000000000 |\n",
       "| 0.9987566    | 0            | 0.0003101737 |\n",
       "| 0.9977547    | 0            | 0.0006203474 |\n",
       "| 0.9972827    | 0            | 0.0009305211 |\n",
       "| 0.9960716    | 0            | 0.0012406948 |\n",
       "| 0.9953000    | 0            | 0.0015508685 |\n",
       "\n"
      ],
      "text/plain": [
       "  cut_off   FPR TPR         \n",
       "1       Inf 0   0.0000000000\n",
       "2 0.9987566 0   0.0003101737\n",
       "3 0.9977547 0   0.0006203474\n",
       "4 0.9972827 0   0.0009305211\n",
       "5 0.9960716 0   0.0012406948\n",
       "6 0.9953000 0   0.0015508685"
      ]
     },
     "metadata": {},
     "output_type": "display_data"
    }
   ],
   "source": [
    "str(rocrperf)\n",
    "rocr_cutoff <- data.frame(cut_off = rocrperf@alpha.values[[1]],fpr=rocrperf@x.values,tpr=rocrperf@y.values)\n",
    "colnames(rocr_cutoff) <- c(\"cut_off\",\"FPR\",\"TPR\")\n",
    "head(rocr_cutoff)"
   ]
  },
  {
   "cell_type": "code",
   "execution_count": 65,
   "metadata": {},
   "outputs": [
    {
     "data": {
      "text/html": [
       "<table>\n",
       "<thead><tr><th scope=col>cut_off</th><th scope=col>FPR</th><th scope=col>TPR</th></tr></thead>\n",
       "<tbody>\n",
       "\t<tr><td>0.007483 </td><td>0.9120883</td><td>1        </td></tr>\n",
       "\t<tr><td>0.007478 </td><td>0.9121265</td><td>1        </td></tr>\n",
       "\t<tr><td>0.007476 </td><td>0.9121647</td><td>1        </td></tr>\n",
       "\t<tr><td>0.007475 </td><td>0.9122029</td><td>1        </td></tr>\n",
       "\t<tr><td>0.007472 </td><td>0.9122412</td><td>1        </td></tr>\n",
       "\t<tr><td>0.007471 </td><td>0.9122794</td><td>1        </td></tr>\n",
       "</tbody>\n",
       "</table>\n"
      ],
      "text/latex": [
       "\\begin{tabular}{r|lll}\n",
       " cut\\_off & FPR & TPR\\\\\n",
       "\\hline\n",
       "\t 0.007483  & 0.9120883 & 1        \\\\\n",
       "\t 0.007478  & 0.9121265 & 1        \\\\\n",
       "\t 0.007476  & 0.9121647 & 1        \\\\\n",
       "\t 0.007475  & 0.9122029 & 1        \\\\\n",
       "\t 0.007472  & 0.9122412 & 1        \\\\\n",
       "\t 0.007471  & 0.9122794 & 1        \\\\\n",
       "\\end{tabular}\n"
      ],
      "text/markdown": [
       "\n",
       "| cut_off | FPR | TPR |\n",
       "|---|---|---|\n",
       "| 0.007483  | 0.9120883 | 1         |\n",
       "| 0.007478  | 0.9121265 | 1         |\n",
       "| 0.007476  | 0.9121647 | 1         |\n",
       "| 0.007475  | 0.9122029 | 1         |\n",
       "| 0.007472  | 0.9122412 | 1         |\n",
       "| 0.007471  | 0.9122794 | 1         |\n",
       "\n"
      ],
      "text/plain": [
       "  cut_off  FPR       TPR\n",
       "1 0.007483 0.9120883 1  \n",
       "2 0.007478 0.9121265 1  \n",
       "3 0.007476 0.9121647 1  \n",
       "4 0.007475 0.9122029 1  \n",
       "5 0.007472 0.9122412 1  \n",
       "6 0.007471 0.9122794 1  "
      ]
     },
     "metadata": {},
     "output_type": "display_data"
    }
   ],
   "source": [
    "library(dplyr)\n",
    "rocr_cutoff$cut_off <- round(rocr_cutoff$cut_off,6)\n",
    "# Sorting data frame with respect to tpr in decreasing order \n",
    "rocr_cutoff <- arrange(rocr_cutoff,desc(TPR))\n",
    "head(rocr_cutoff)"
   ]
  },
  {
   "cell_type": "code",
   "execution_count": 75,
   "metadata": {},
   "outputs": [],
   "source": [
    "# Get the cutoff for the best accuracy\n",
    "cutoff_data=data.frame(cutoff=0,TP=0,FP=0,FN=0,TN=0)\n",
    "cutoffs=seq(0,1,length=100)"
   ]
  },
  {
   "cell_type": "code",
   "execution_count": 94,
   "metadata": {},
   "outputs": [],
   "source": [
    "for (i in cutoffs){\n",
    "  predicted=as.numeric(y_train_pred$y_prob>i)\n",
    "  \n",
    "  TP=sum(predicted==1 & y_train_pred$y==1)\n",
    "  FP=sum(predicted==1 & y_train_pred$y==0)\n",
    "  FN=sum(predicted==0 & y_train_pred$y==1)\n",
    "  TN=sum(predicted==0 & y_train_pred$y==0)\n",
    "  cutoff_data=rbind(cutoff_data,c(i,TP,FP,FN,TN))\n",
    "}\n",
    "## lets remove the dummy data cotaining top row in data frame cutoff_data\n",
    "cutoff_data=cutoff_data[-1,]\n",
    "#we now have 100 obs in df cutoff_data"
   ]
  },
  {
   "cell_type": "code",
   "execution_count": 96,
   "metadata": {},
   "outputs": [],
   "source": [
    "#Let's calculate Sensitivity, Specificity, Precision and Recall\n",
    "\n",
    "cutoff_data=cutoff_data %>%\n",
    "  mutate(P=FN+TP,N=TN+FP, #total positives and negatives\n",
    "         Sn=TP/P, #sensitivity\n",
    "         Sp=TN/N, #specificity\n",
    "         KS=abs((TP/P)-(FP/N)),\n",
    "         Accuracy=(TP+TN)/(P+N),\n",
    "         Lift=(TP/P)/((TP+FP)/(P+N)),\n",
    "         Precision=TP/(TP+FP), #Precision\n",
    "         Recall=TP/P #Recall\n",
    "  ) %>% \n",
    "  select(-P,-N)"
   ]
  },
  {
   "cell_type": "code",
   "execution_count": 98,
   "metadata": {},
   "outputs": [
    {
     "data": {
      "text/html": [
       "0.0909090909090909"
      ],
      "text/latex": [
       "0.0909090909090909"
      ],
      "text/markdown": [
       "0.0909090909090909"
      ],
      "text/plain": [
       "[1] 0.09090909"
      ]
     },
     "metadata": {},
     "output_type": "display_data"
    }
   ],
   "source": [
    "#Finding the cutoff\n",
    "\n",
    "KS_cutoff=cutoff_data$cutoff[which.max(cutoff_data$KS)]\n",
    "KS_cutoff"
   ]
  },
  {
   "cell_type": "markdown",
   "metadata": {},
   "source": [
    "### Predict on Test Data"
   ]
  },
  {
   "cell_type": "code",
   "execution_count": 106,
   "metadata": {},
   "outputs": [
    {
     "data": {
      "text/plain": [
       "      age            default           balance          housing      \n",
       " Min.   :0.0000   Min.   :0.00000   Min.   :0.0000   Min.   :0.0000  \n",
       " 1st Qu.:0.1974   1st Qu.:0.00000   1st Qu.:0.2398   1st Qu.:0.0000  \n",
       " Median :0.2763   Median :0.00000   Median :0.2607   Median :1.0000  \n",
       " Mean   :0.3017   Mean   :0.01721   Mean   :0.3025   Mean   :0.5583  \n",
       " 3rd Qu.:0.3947   3rd Qu.:0.00000   3rd Qu.:0.3142   3rd Qu.:1.0000  \n",
       " Max.   :1.0000   Max.   :1.00000   Max.   :1.0000   Max.   :1.0000  \n",
       "      loan           duration          campaign           pdays        \n",
       " Min.   :0.0000   Min.   :0.00000   Min.   :0.00000   Min.   :0.00000  \n",
       " 1st Qu.:0.0000   1st Qu.:0.08082   1st Qu.:0.00000   1st Qu.:0.00000  \n",
       " Median :0.0000   Median :0.14184   Median :0.07143   Median :0.00000  \n",
       " Mean   :0.1626   Mean   :0.19426   Mean   :0.11022   Mean   :0.09706  \n",
       " 3rd Qu.:0.0000   3rd Qu.:0.24802   3rd Qu.:0.14286   3rd Qu.:0.00000  \n",
       " Max.   :1.0000   Max.   :1.00000   Max.   :1.00000   Max.   :1.00000  \n",
       "    previous        poutfailure       poutother        poutsuccess     \n",
       " Min.   :0.00000   Min.   :0.0000   Min.   :0.00000   Min.   :0.00000  \n",
       " 1st Qu.:0.00000   1st Qu.:0.0000   1st Qu.:0.00000   1st Qu.:0.00000  \n",
       " Median :0.00000   Median :0.0000   Median :0.00000   Median :0.00000  \n",
       " Mean   :0.05865   Mean   :0.1011   Mean   :0.03697   Mean   :0.03195  \n",
       " 3rd Qu.:0.00000   3rd Qu.:0.0000   3rd Qu.:0.00000   3rd Qu.:0.00000  \n",
       " Max.   :1.00000   Max.   :1.0000   Max.   :1.00000   Max.   :1.00000  \n",
       "  poutunknown    con_cellular    con_telephone      con_unknown    \n",
       " Min.   :0.00   Min.   :0.0000   Min.   :0.00000   Min.   :0.0000  \n",
       " 1st Qu.:1.00   1st Qu.:0.0000   1st Qu.:0.00000   1st Qu.:0.0000  \n",
       " Median :1.00   Median :1.0000   Median :0.00000   Median :0.0000  \n",
       " Mean   :0.83   Mean   :0.6454   Mean   :0.06076   Mean   :0.2938  \n",
       " 3rd Qu.:1.00   3rd Qu.:1.0000   3rd Qu.:0.00000   3rd Qu.:1.0000  \n",
       " Max.   :1.00   Max.   :1.0000   Max.   :1.00000   Max.   :1.0000  \n",
       "    divorced         married           single          joadmin.     \n",
       " Min.   :0.0000   Min.   :0.0000   Min.   :0.0000   Min.   :0.0000  \n",
       " 1st Qu.:0.0000   1st Qu.:0.0000   1st Qu.:0.0000   1st Qu.:0.0000  \n",
       " Median :0.0000   Median :1.0000   Median :0.0000   Median :0.0000  \n",
       " Mean   :0.1166   Mean   :0.6025   Mean   :0.2809   Mean   :0.1115  \n",
       " 3rd Qu.:0.0000   3rd Qu.:1.0000   3rd Qu.:1.0000   3rd Qu.:0.0000  \n",
       " Max.   :1.0000   Max.   :1.0000   Max.   :1.0000   Max.   :1.0000  \n",
       " joblue.collar    joentrepreneur    johousemaid       jomanagement  \n",
       " Min.   :0.0000   Min.   :0.0000   Min.   :0.00000   Min.   :0.000  \n",
       " 1st Qu.:0.0000   1st Qu.:0.0000   1st Qu.:0.00000   1st Qu.:0.000  \n",
       " Median :0.0000   Median :0.0000   Median :0.00000   Median :0.000  \n",
       " Mean   :0.2125   Mean   :0.0336   Mean   :0.02799   Mean   :0.207  \n",
       " 3rd Qu.:0.0000   3rd Qu.:0.0000   3rd Qu.:0.00000   3rd Qu.:0.000  \n",
       " Max.   :1.0000   Max.   :1.0000   Max.   :1.00000   Max.   :1.000  \n",
       "   joretired       joself.employed     joservices        jostudent      \n",
       " Min.   :0.00000   Min.   :0.00000   Min.   :0.00000   Min.   :0.00000  \n",
       " 1st Qu.:0.00000   1st Qu.:0.00000   1st Qu.:0.00000   1st Qu.:0.00000  \n",
       " Median :0.00000   Median :0.00000   Median :0.00000   Median :0.00000  \n",
       " Mean   :0.05051   Mean   :0.03525   Mean   :0.09496   Mean   :0.02095  \n",
       " 3rd Qu.:0.00000   3rd Qu.:0.00000   3rd Qu.:0.00000   3rd Qu.:0.00000  \n",
       " Max.   :1.00000   Max.   :1.00000   Max.   :1.00000   Max.   :1.00000  \n",
       "  jotechnician     jounemployed       jounknown             y         \n",
       " Min.   :0.0000   Min.   :0.00000   Min.   :0.00000   Min.   :0.0000  \n",
       " 1st Qu.:0.0000   1st Qu.:0.00000   1st Qu.:0.00000   1st Qu.:0.0000  \n",
       " Median :0.0000   Median :0.00000   Median :0.00000   Median :0.0000  \n",
       " Mean   :0.1682   Mean   :0.03106   Mean   :0.00651   Mean   :0.1063  \n",
       " 3rd Qu.:0.0000   3rd Qu.:0.00000   3rd Qu.:0.00000   3rd Qu.:0.0000  \n",
       " Max.   :1.0000   Max.   :1.00000   Max.   :1.00000   Max.   :1.0000  "
      ]
     },
     "metadata": {},
     "output_type": "display_data"
    }
   ],
   "source": [
    "# Min Max scaling for test data\n",
    "preproc = preProcess(test, method = c(\"range\"))\n",
    "\n",
    "test_norm <- predict(preproc, test)\n",
    " \n",
    "summary(test_norm)\n"
   ]
  },
  {
   "cell_type": "code",
   "execution_count": 107,
   "metadata": {},
   "outputs": [
    {
     "data": {
      "text/html": [
       "<table>\n",
       "<thead><tr><th></th><th scope=col>y</th></tr></thead>\n",
       "<tbody>\n",
       "\t<tr><th scope=row>4</th><td>0</td></tr>\n",
       "\t<tr><th scope=row>5</th><td>0</td></tr>\n",
       "\t<tr><th scope=row>8</th><td>0</td></tr>\n",
       "\t<tr><th scope=row>11</th><td>0</td></tr>\n",
       "\t<tr><th scope=row>16</th><td>0</td></tr>\n",
       "\t<tr><th scope=row>20</th><td>0</td></tr>\n",
       "</tbody>\n",
       "</table>\n"
      ],
      "text/latex": [
       "\\begin{tabular}{r|l}\n",
       "  & y\\\\\n",
       "\\hline\n",
       "\t4 & 0\\\\\n",
       "\t5 & 0\\\\\n",
       "\t8 & 0\\\\\n",
       "\t11 & 0\\\\\n",
       "\t16 & 0\\\\\n",
       "\t20 & 0\\\\\n",
       "\\end{tabular}\n"
      ],
      "text/markdown": [
       "\n",
       "| <!--/--> | y |\n",
       "|---|---|\n",
       "| 4 | 0 |\n",
       "| 5 | 0 |\n",
       "| 8 | 0 |\n",
       "| 11 | 0 |\n",
       "| 16 | 0 |\n",
       "| 20 | 0 |\n",
       "\n"
      ],
      "text/plain": [
       "   y\n",
       "4  0\n",
       "5  0\n",
       "8  0\n",
       "11 0\n",
       "16 0\n",
       "20 0"
      ]
     },
     "metadata": {},
     "output_type": "display_data"
    }
   ],
   "source": [
    "y_test_pred <- test_norm[, c(\"y\"), drop=FALSE]\n",
    "head(y_test_pred)"
   ]
  },
  {
   "cell_type": "code",
   "execution_count": 108,
   "metadata": {},
   "outputs": [
    {
     "data": {
      "text/html": [
       "<table>\n",
       "<thead><tr><th></th><th scope=col>y</th><th scope=col>y_prob</th></tr></thead>\n",
       "<tbody>\n",
       "\t<tr><th scope=row>4</th><td>0          </td><td>0.005357065</td></tr>\n",
       "\t<tr><th scope=row>5</th><td>0          </td><td>0.029953286</td></tr>\n",
       "\t<tr><th scope=row>8</th><td>0          </td><td>0.027571177</td></tr>\n",
       "\t<tr><th scope=row>11</th><td>0          </td><td>0.017704256</td></tr>\n",
       "\t<tr><th scope=row>16</th><td>0          </td><td>0.038070816</td></tr>\n",
       "\t<tr><th scope=row>20</th><td>0          </td><td>0.004838722</td></tr>\n",
       "</tbody>\n",
       "</table>\n"
      ],
      "text/latex": [
       "\\begin{tabular}{r|ll}\n",
       "  & y & y\\_prob\\\\\n",
       "\\hline\n",
       "\t4 & 0           & 0.005357065\\\\\n",
       "\t5 & 0           & 0.029953286\\\\\n",
       "\t8 & 0           & 0.027571177\\\\\n",
       "\t11 & 0           & 0.017704256\\\\\n",
       "\t16 & 0           & 0.038070816\\\\\n",
       "\t20 & 0           & 0.004838722\\\\\n",
       "\\end{tabular}\n"
      ],
      "text/markdown": [
       "\n",
       "| <!--/--> | y | y_prob |\n",
       "|---|---|---|\n",
       "| 4 | 0           | 0.005357065 |\n",
       "| 5 | 0           | 0.029953286 |\n",
       "| 8 | 0           | 0.027571177 |\n",
       "| 11 | 0           | 0.017704256 |\n",
       "| 16 | 0           | 0.038070816 |\n",
       "| 20 | 0           | 0.004838722 |\n",
       "\n"
      ],
      "text/plain": [
       "   y y_prob     \n",
       "4  0 0.005357065\n",
       "5  0 0.029953286\n",
       "8  0 0.027571177\n",
       "11 0 0.017704256\n",
       "16 0 0.038070816\n",
       "20 0 0.004838722"
      ]
     },
     "metadata": {},
     "output_type": "display_data"
    }
   ],
   "source": [
    "y_test_pred$y_prob <- predict(logm3,test_norm,type=\"response\")\n",
    "head(y_test_pred)"
   ]
  },
  {
   "cell_type": "code",
   "execution_count": 109,
   "metadata": {},
   "outputs": [
    {
     "data": {
      "text/html": [
       "<table>\n",
       "<thead><tr><th></th><th scope=col>y</th><th scope=col>y_prob</th><th scope=col>pred_values</th></tr></thead>\n",
       "<tbody>\n",
       "\t<tr><th scope=row>4</th><td>0          </td><td>0.005357065</td><td>0          </td></tr>\n",
       "\t<tr><th scope=row>5</th><td>0          </td><td>0.029953286</td><td>0          </td></tr>\n",
       "\t<tr><th scope=row>8</th><td>0          </td><td>0.027571177</td><td>0          </td></tr>\n",
       "\t<tr><th scope=row>11</th><td>0          </td><td>0.017704256</td><td>0          </td></tr>\n",
       "\t<tr><th scope=row>16</th><td>0          </td><td>0.038070816</td><td>0          </td></tr>\n",
       "\t<tr><th scope=row>20</th><td>0          </td><td>0.004838722</td><td>0          </td></tr>\n",
       "</tbody>\n",
       "</table>\n"
      ],
      "text/latex": [
       "\\begin{tabular}{r|lll}\n",
       "  & y & y\\_prob & pred\\_values\\\\\n",
       "\\hline\n",
       "\t4 & 0           & 0.005357065 & 0          \\\\\n",
       "\t5 & 0           & 0.029953286 & 0          \\\\\n",
       "\t8 & 0           & 0.027571177 & 0          \\\\\n",
       "\t11 & 0           & 0.017704256 & 0          \\\\\n",
       "\t16 & 0           & 0.038070816 & 0          \\\\\n",
       "\t20 & 0           & 0.004838722 & 0          \\\\\n",
       "\\end{tabular}\n"
      ],
      "text/markdown": [
       "\n",
       "| <!--/--> | y | y_prob | pred_values |\n",
       "|---|---|---|---|\n",
       "| 4 | 0           | 0.005357065 | 0           |\n",
       "| 5 | 0           | 0.029953286 | 0           |\n",
       "| 8 | 0           | 0.027571177 | 0           |\n",
       "| 11 | 0           | 0.017704256 | 0           |\n",
       "| 16 | 0           | 0.038070816 | 0           |\n",
       "| 20 | 0           | 0.004838722 | 0           |\n",
       "\n"
      ],
      "text/plain": [
       "   y y_prob      pred_values\n",
       "4  0 0.005357065 0          \n",
       "5  0 0.029953286 0          \n",
       "8  0 0.027571177 0          \n",
       "11 0 0.017704256 0          \n",
       "16 0 0.038070816 0          \n",
       "20 0 0.004838722 0          "
      ]
     },
     "metadata": {},
     "output_type": "display_data"
    }
   ],
   "source": [
    "y_test_pred$pred_values <- ifelse(y_test_pred$y_prob>0.09090,1,0)\n",
    "head(y_test_pred)"
   ]
  },
  {
   "cell_type": "code",
   "execution_count": 110,
   "metadata": {},
   "outputs": [
    {
     "data": {
      "text/plain": [
       "\n",
       "    0     1 \n",
       "10015  3348 "
      ]
     },
     "metadata": {},
     "output_type": "display_data"
    }
   ],
   "source": [
    "table(y_test_pred$pred_values)"
   ]
  },
  {
   "cell_type": "code",
   "execution_count": 126,
   "metadata": {},
   "outputs": [
    {
     "data": {
      "text/plain": [
       "       \n",
       "           0    1\n",
       "  FALSE 9764  251\n",
       "  TRUE  2178 1170"
      ]
     },
     "metadata": {},
     "output_type": "display_data"
    }
   ],
   "source": [
    "#Confusion Matrix\n",
    "confusion<-table(y_test_pred$y_prob>0.0909,y_test_pred$y)\n",
    "confusion"
   ]
  },
  {
   "cell_type": "code",
   "execution_count": 127,
   "metadata": {},
   "outputs": [
    {
     "data": {
      "text/html": [
       "0.818229439497119"
      ],
      "text/latex": [
       "0.818229439497119"
      ],
      "text/markdown": [
       "0.818229439497119"
      ],
      "text/plain": [
       "[1] 0.8182294"
      ]
     },
     "metadata": {},
     "output_type": "display_data"
    }
   ],
   "source": [
    "Accuracy<-sum(diag(confusion)/sum(confusion))\n",
    "Accuracy"
   ]
  },
  {
   "cell_type": "code",
   "execution_count": 113,
   "metadata": {},
   "outputs": [
    {
     "name": "stdout",
     "output_type": "stream",
     "text": [
      "Formal class 'performance' [package \"ROCR\"] with 6 slots\n",
      "  ..@ x.name      : chr \"False positive rate\"\n",
      "  ..@ y.name      : chr \"True positive rate\"\n",
      "  ..@ alpha.name  : chr \"Cutoff\"\n",
      "  ..@ x.values    :List of 1\n",
      "  .. ..$ : num [1:13356] 0 0 0 0 0 ...\n",
      "  ..@ y.values    :List of 1\n",
      "  .. ..$ : num [1:13356] 0 0.000704 0.001407 0.002111 0.002815 ...\n",
      "  ..@ alpha.values:List of 1\n",
      "  .. ..$ : num [1:13356] Inf 0.996 0.995 0.994 0.991 ...\n"
     ]
    },
    {
     "data": {
      "image/png": "[encoded data removed]",
      "text/plain": [
       "plot without title"
      ]
     },
     "metadata": {},
     "output_type": "display_data"
    }
   ],
   "source": [
    "### ROC curve with cut-off value\n",
    "\n",
    "rocrpred<-prediction(y_test_pred$y_prob,y_test_pred$y)\n",
    "rocrperf<-performance(rocrpred,'tpr','fpr')\n",
    "\n",
    "str(rocrperf)\n",
    "\n",
    "plot(rocrperf,colorize=T,text.adj=c(-0.2,1.7))"
   ]
  },
  {
   "cell_type": "code",
   "execution_count": 115,
   "metadata": {},
   "outputs": [
    {
     "name": "stderr",
     "output_type": "stream",
     "text": [
      "Updating HTML index of packages in '.Library'\n",
      "Making 'packages.html' ... done\n",
      "Type 'citation(\"pROC\")' for a citation.\n",
      "\n",
      "Attaching package: ‘pROC’\n",
      "\n",
      "The following object is masked from ‘package:fmsb’:\n",
      "\n",
      "    roc\n",
      "\n",
      "The following objects are masked from ‘package:stats’:\n",
      "\n",
      "    cov, smooth, var\n",
      "\n"
     ]
    }
   ],
   "source": [
    "install.packages('pROC')\n",
    "library(pROC)"
   ]
  },
  {
   "cell_type": "markdown",
   "metadata": {},
   "source": [
    "### Area Under the Curve"
   ]
  },
  {
   "cell_type": "code",
   "execution_count": 120,
   "metadata": {},
   "outputs": [
    {
     "name": "stderr",
     "output_type": "stream",
     "text": [
      "Setting levels: control = 0, case = 1\n",
      "Setting direction: controls < cases\n"
     ]
    },
    {
     "data": {
      "text/html": [
       "0.895995847157579"
      ],
      "text/latex": [
       "0.895995847157579"
      ],
      "text/markdown": [
       "0.895995847157579"
      ],
      "text/plain": [
       "Area under the curve: 0.896"
      ]
     },
     "metadata": {},
     "output_type": "display_data"
    }
   ],
   "source": [
    "roccurve=roc(y_test_pred$y, y_test_pred$y_prob) #real outcome and predicted score is plotted\n",
    "auc(roccurve)"
   ]
  },
  {
   "cell_type": "markdown",
   "metadata": {},
   "source": [
    "### Conclusion"
   ]
  },
  {
   "cell_type": "markdown",
   "metadata": {},
   "source": [
    "Hence, the no. of customers to be focused upon for term deposits by the bank are predicted successfully using logistic regression model with an accuracy of 82% approximately. "
   ]
  }
 ],
 "metadata": {
  "kernelspec": {
   "display_name": "R",
   "language": "R",
   "name": "ir"
  },
  "language_info": {
   "codemirror_mode": "r",
   "file_extension": ".r",
   "mimetype": "text/x-r-source",
   "name": "R",
   "pygments_lexer": "r",
   "version": "3.6.1"
  }
 },
 "nbformat": 4,
 "nbformat_minor": 4
}
